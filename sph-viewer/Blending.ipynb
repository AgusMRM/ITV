{
 "cells": [
  {
   "cell_type": "code",
   "execution_count": 63,
   "metadata": {},
   "outputs": [
    {
     "name": "stdout",
     "output_type": "stream",
     "text": [
      "Populating the interactive namespace from numpy and matplotlib\n"
     ]
    }
   ],
   "source": [
    "%pylab inline\n",
    "import pynbody\n",
    "import sphviewer as sph\n",
    "import matplotlib.pyplot as plt\n",
    "from matplotlib.colors import LogNorm\n",
    "from sphviewer.tools import QuickView, Blend"
   ]
  },
  {
   "cell_type": "markdown",
   "metadata": {},
   "source": [
    "VOID S"
   ]
  },
  {
   "cell_type": "code",
   "execution_count": 64,
   "metadata": {},
   "outputs": [],
   "source": [
    "path='/mnt/is2/dpaz/ITV/S1373/out/'\n",
    "s=pynbody.load(path+'snapshot_050')"
   ]
  },
  {
   "cell_type": "code",
   "execution_count": 65,
   "metadata": {},
   "outputs": [],
   "source": [
    "pos = s['pos']#.in_units('Mpc')\n",
    "xbox=403.8960 \n",
    "ybox=459.8882\n",
    "zbox=440.9021 \n",
    "\n",
    "xc=408.205481 - xbox + 250 \n",
    "yc=457.777839 - ybox + 250   \n",
    "zc=441.538681 - zbox + 250"
   ]
  },
  {
   "cell_type": "code",
   "execution_count": 4,
   "metadata": {},
   "outputs": [
    {
     "data": {
      "text/plain": [
       "54481322"
      ]
     },
     "execution_count": 4,
     "metadata": {},
     "output_type": "execute_result"
    }
   ],
   "source": [
    "2*27240661"
   ]
  },
  {
   "cell_type": "code",
   "execution_count": 66,
   "metadata": {},
   "outputs": [],
   "source": [
    "x = pos[:27240661,0] - xc\n",
    "y = pos[:27240661,1] - yc \n",
    "z = pos[:27240661,2] - zc \n",
    "\n",
    "x2 = pos[27240661:57136519,0] - xc\n",
    "y2 = pos[27240661:57136519,1] - yc \n",
    "z2 = pos[27240661:57136519,2] - zc "
   ]
  },
  {
   "cell_type": "code",
   "execution_count": 67,
   "metadata": {},
   "outputs": [
    {
     "data": {
      "text/plain": [
       "29895858"
      ]
     },
     "execution_count": 67,
     "metadata": {},
     "output_type": "execute_result"
    }
   ],
   "source": [
    "len(x2)"
   ]
  },
  {
   "cell_type": "code",
   "execution_count": 68,
   "metadata": {},
   "outputs": [],
   "source": [
    "mgs = np.ones(len(x))\n",
    "mdm = np.ones(len(x2))"
   ]
  },
  {
   "cell_type": "code",
   "execution_count": 69,
   "metadata": {},
   "outputs": [],
   "source": [
    "rl=9\n",
    "gscut, = np.where((x <rl) & (y <rl) & (z <rl) & (x >-rl) & (y >-rl) & (z >-rl))\n",
    "dmcut, = np.where((x2 <rl) & (y2 <rl) & (z2 <rl) & (x2 >-rl) & (y2 >-rl) & (z2 >-rl))"
   ]
  },
  {
   "cell_type": "code",
   "execution_count": 70,
   "metadata": {},
   "outputs": [],
   "source": [
    "pos_gs=np.zeros([len(gscut),3])\n",
    "pos_gs[:,0]=x2[gscut]\n",
    "pos_gs[:,1]=y2[gscut]\n",
    "pos_gs[:,2]=z2[gscut]\n",
    "\n",
    "pos_dm=np.zeros([len(dmcut),3])\n",
    "pos_dm[:,0]=x2[dmcut]\n",
    "pos_dm[:,1]=y2[dmcut]\n",
    "pos_dm[:,2]=z2[dmcut]"
   ]
  },
  {
   "cell_type": "code",
   "execution_count": 71,
   "metadata": {},
   "outputs": [],
   "source": [
    "def get_normalized_image(image, vmin=None, vmax=None):\n",
    "    if(vmin == None):\n",
    "        vmin = np.min(image)\n",
    "    if(vmax == None):\n",
    "        vmax = np.max(image)\n",
    "\n",
    "    image = np.clip(image, vmin, vmax)\n",
    "    image = (image-vmin)/(vmax-vmin)\n",
    "\n",
    "    return image"
   ]
  },
  {
   "cell_type": "code",
   "execution_count": 72,
   "metadata": {},
   "outputs": [],
   "source": [
    "def get_normalized_image(image):\n",
    "        image = (image-np.min(image))/(np.max(image)-np.min(image))\n",
    "        return image"
   ]
  },
  {
   "cell_type": "code",
   "execution_count": 75,
   "metadata": {},
   "outputs": [
    {
     "name": "stdout",
     "output_type": "stream",
     "text": [
      "particulas gas (436279, 3)\n",
      "particulas dm  (471776, 3)\n"
     ]
    }
   ],
   "source": [
    "print('particulas gas',np.shape(pos_gs))\n",
    "print('particulas dm ',np.shape(pos_dm))\n",
    "      "
   ]
  },
  {
   "cell_type": "code",
   "execution_count": null,
   "metadata": {},
   "outputs": [],
   "source": [
    "pos1=pos_gs\n",
    "pos2=pos_dm\n",
    "qv1 = QuickView(pos1, np.ones(len(pos1)),\n",
    "                    r='infinity', logscale=True, plot=False,\n",
    "                    extent=[-rl,rl,-rl,rl])#, x=0, y=0, z=0)\n",
    "qv2 = QuickView(pos2, np.ones(len(pos2)),\n",
    "                    r='infinity', logscale=True, plot=False,\n",
    "                    extent=[-rl,rl,-rl,rl])#, x=0, y=0, z=0)\n",
    "\n",
    "\n",
    "image1 = cm.magma(get_normalized_image(qv1.get_image()))\n",
    "image2 = cm.plasma(get_normalized_image(qv2.get_image()))\n",
    "\n",
    "\n",
    "fig = plt.figure(1, figsize=(20,10))\n",
    "ax1 = fig.add_subplot(121)\n",
    "ax2 = fig.add_subplot(122)\n",
    "blend = Blend.Blend(image1, image2)\n",
    "screen  = blend.Screen()\n",
    "overlay = blend.Overlay()\n",
    "\n",
    "ax1.imshow(screen, origin='lower', extent=qv1.get_extent())\n",
    "ax1.set_title('Screen')\n",
    "ax2.imshow(overlay, origin='lower', extent=qv1.get_extent())\n",
    "ax2.set_title('Overlay')\n",
    "plt.show()"
   ]
  },
  {
   "cell_type": "code",
   "execution_count": 53,
   "metadata": {},
   "outputs": [
    {
     "data": {
      "text/plain": [
       "250000.0"
      ]
     },
     "execution_count": 53,
     "metadata": {},
     "output_type": "execute_result"
    }
   ],
   "source": [
    "np.sum(image1)"
   ]
  },
  {
   "cell_type": "code",
   "execution_count": 53,
   "metadata": {},
   "outputs": [],
   "source": [
    "img_drk=get_normalized_image(img_drk, 0, 1.5)"
   ]
  }
 ],
 "metadata": {
  "kernelspec": {
   "display_name": "Python 3",
   "language": "python",
   "name": "python3"
  },
  "language_info": {
   "codemirror_mode": {
    "name": "ipython",
    "version": 3
   },
   "file_extension": ".py",
   "mimetype": "text/x-python",
   "name": "python",
   "nbconvert_exporter": "python",
   "pygments_lexer": "ipython3",
   "version": "3.7.3"
  }
 },
 "nbformat": 4,
 "nbformat_minor": 4
}
