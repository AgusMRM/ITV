{
 "cells": [
  {
   "cell_type": "code",
   "execution_count": 6,
   "metadata": {},
   "outputs": [
    {
     "name": "stdout",
     "output_type": "stream",
     "text": [
      "Populating the interactive namespace from numpy and matplotlib\n"
     ]
    }
   ],
   "source": [
    "%pylab inline\n",
    "import pynbody\n",
    "from matplotlib.patches import Circle"
   ]
  },
  {
   "cell_type": "code",
   "execution_count": 2,
   "metadata": {},
   "outputs": [],
   "source": [
    "path='/mnt/is2/dpaz/ITV/S1373/out/'\n",
    "s=pynbody.load(path+'snapshot_050')"
   ]
  },
  {
   "cell_type": "code",
   "execution_count": 3,
   "metadata": {},
   "outputs": [],
   "source": [
    "drk = s.dm\n",
    "gas = s.gas"
   ]
  },
  {
   "cell_type": "code",
   "execution_count": 4,
   "metadata": {},
   "outputs": [],
   "source": [
    "xbox=403.8960 \n",
    "ybox=459.8882\n",
    "zbox=440.9021 \n",
    "\n",
    "#xbox=411.2170 \n",
    "#ybox=162.1655\n",
    "#zbox=453.0553\n",
    "\n",
    "xc=408.205481 - xbox + 250 \n",
    "yc=457.777839 - ybox + 250   \n",
    "zc=441.538681 - zbox + 250"
   ]
  },
  {
   "cell_type": "code",
   "execution_count": 7,
   "metadata": {},
   "outputs": [],
   "source": [
    "pdm = drk['pos']\n",
    "pgs = gas['pos']"
   ]
  },
  {
   "cell_type": "code",
   "execution_count": 14,
   "metadata": {},
   "outputs": [
    {
     "data": {
      "text/plain": [
       "29895858"
      ]
     },
     "execution_count": 14,
     "metadata": {},
     "output_type": "execute_result"
    }
   ],
   "source": [
    "len(pdm)"
   ]
  },
  {
   "cell_type": "code",
   "execution_count": 40,
   "metadata": {},
   "outputs": [],
   "source": [
    "void_dm, = np.where((abs(pdm[:,0]-xc)<5) & (abs(pdm[:,1]-yc)<5) & (abs(pdm[:,2]-zc)<5))\n",
    "void_gs, = np.where((abs(pgs[:,0]-xc)<5) & (abs(pgs[:,1]-yc)<5) & (abs(pgs[:,2]-zc)<5))"
   ]
  },
  {
   "cell_type": "code",
   "execution_count": 41,
   "metadata": {},
   "outputs": [],
   "source": [
    "mdm = drk['mass']\n",
    "mgs = gas['mass']"
   ]
  },
  {
   "cell_type": "code",
   "execution_count": 42,
   "metadata": {},
   "outputs": [
    {
     "name": "stdout",
     "output_type": "stream",
     "text": [
      "masa dentro del void 2604.9768\n"
     ]
    }
   ],
   "source": [
    "masa_dm = np.sum(mdm[void_dm])\n",
    "masa_gs = np.sum(mgs[void_gs])\n",
    "print('masa dentro del void', masa_dm+masa_gs)"
   ]
  },
  {
   "cell_type": "code",
   "execution_count": 43,
   "metadata": {},
   "outputs": [],
   "source": [
    "path='/mnt/is2/fstasys/ITV/base09/out/'\n",
    "s0=pynbody.load(path+'snapshot_008')"
   ]
  },
  {
   "cell_type": "code",
   "execution_count": 44,
   "metadata": {},
   "outputs": [],
   "source": [
    "pos=s0['pos']\n",
    "mass=s0['mass']"
   ]
  },
  {
   "cell_type": "code",
   "execution_count": 45,
   "metadata": {},
   "outputs": [],
   "source": [
    "vds = np.loadtxt('/mnt/is2/fstasys/ITV/base09/voids/voids_new.dat')"
   ]
  },
  {
   "cell_type": "code",
   "execution_count": 33,
   "metadata": {},
   "outputs": [
    {
     "data": {
      "text/plain": [
       "array([ 9.75000000e+00,  4.08205481e+02,  4.57777839e+02,  4.41538681e+02,\n",
       "       -1.52923076e+02, -3.04022701e+02, -2.75115239e+02, -9.34477000e-01,\n",
       "        9.56895000e-01,  6.92835700e-02])"
      ]
     },
     "execution_count": 33,
     "metadata": {},
     "output_type": "execute_result"
    }
   ],
   "source": [
    "vds[1372,:]"
   ]
  },
  {
   "cell_type": "code",
   "execution_count": 47,
   "metadata": {},
   "outputs": [],
   "source": [
    "void, = np.where( (abs(pos[:,0]-4.08205481e+02)<5) & (abs(pos[:,1]-4.57777839e+02)<5) & (abs(pos[:,2]-4.41538681e+02)<5))"
   ]
  },
  {
   "cell_type": "code",
   "execution_count": 48,
   "metadata": {},
   "outputs": [
    {
     "data": {
      "text/plain": [
       "SimArray(2475.327, dtype=float32, '1.00e+10 Msol h**-1')"
      ]
     },
     "execution_count": 48,
     "metadata": {},
     "output_type": "execute_result"
    }
   ],
   "source": [
    "np.sum(mass[void])"
   ]
  },
  {
   "cell_type": "code",
   "execution_count": 39,
   "metadata": {},
   "outputs": [
    {
     "data": {
      "text/plain": [
       "SimArray([7.133507, 7.133507, 7.133507, ..., 7.133507, 7.133507, 7.133507],\n",
       "         dtype=float32, '1.00e+10 Msol h**-1')"
      ]
     },
     "execution_count": 39,
     "metadata": {},
     "output_type": "execute_result"
    }
   ],
   "source": [
    "mass"
   ]
  }
 ],
 "metadata": {
  "kernelspec": {
   "display_name": "Python 3",
   "language": "python",
   "name": "python3"
  },
  "language_info": {
   "codemirror_mode": {
    "name": "ipython",
    "version": 3
   },
   "file_extension": ".py",
   "mimetype": "text/x-python",
   "name": "python",
   "nbconvert_exporter": "python",
   "pygments_lexer": "ipython3",
   "version": "3.7.3"
  }
 },
 "nbformat": 4,
 "nbformat_minor": 4
}
