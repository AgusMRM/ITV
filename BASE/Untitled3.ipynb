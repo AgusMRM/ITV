{
 "cells": [
  {
   "cell_type": "code",
   "execution_count": 2,
   "metadata": {},
   "outputs": [
    {
     "name": "stdout",
     "output_type": "stream",
     "text": [
      "Populating the interactive namespace from numpy and matplotlib\n"
     ]
    }
   ],
   "source": [
    "%pylab inline \n",
    "import pynbody "
   ]
  },
  {
   "cell_type": "code",
   "execution_count": 3,
   "metadata": {},
   "outputs": [],
   "source": [
    "t=np.loadtxt('/mnt/is2/fstasys/ITV/base09/rockstar/out_0.list',skiprows=17)"
   ]
  },
  {
   "cell_type": "code",
   "execution_count": 5,
   "metadata": {},
   "outputs": [
    {
     "data": {
      "text/plain": [
       "142670000000.0"
      ]
     },
     "execution_count": 5,
     "metadata": {},
     "output_type": "execute_result"
    }
   ],
   "source": [
    "np.min(t[:,2])"
   ]
  },
  {
   "cell_type": "code",
   "execution_count": 12,
   "metadata": {},
   "outputs": [],
   "source": [
    "cut0,=np.where((t[:,2]>1e11) & (t[:,2]<1e12))\n",
    "cut1,=np.where((t[:,2]>1e12) & (t[:,2]<1e13))\n",
    "cut2,=np.where((t[:,2]>1e13) & (t[:,2]<1e14))"
   ]
  },
  {
   "cell_type": "code",
   "execution_count": 13,
   "metadata": {},
   "outputs": [],
   "source": [
    "v=np.sqrt(t[:,11]**2+t[:,12]**2+t[:,13]**2)"
   ]
  },
  {
   "cell_type": "code",
   "execution_count": 15,
   "metadata": {},
   "outputs": [
    {
     "data": {
      "text/plain": [
       "(array([9.08752997e-04, 1.35353591e-03, 3.24558782e-04, 6.52131863e-05,\n",
       "        1.52453938e-05, 5.10112035e-06, 1.27528009e-06, 5.21705490e-07,\n",
       "        2.31869107e-07, 1.15934553e-07]),\n",
       " array([   8.69753988,  382.59190904,  756.48627819, 1130.38064734,\n",
       "        1504.2750165 , 1878.16938565, 2252.0637548 , 2625.95812395,\n",
       "        2999.85249311, 3373.74686226, 3747.64123141]),\n",
       " <a list of 1 Patch objects>)"
      ]
     },
     "execution_count": 15,
     "metadata": {},
     "output_type": "execute_result"
    },
    {
     "data": {
      "image/png": "[encoded data removed]",
      "text/plain": [
       "<Figure size 432x288 with 1 Axes>"
      ]
     },
     "metadata": {
      "needs_background": "light"
     },
     "output_type": "display_data"
    }
   ],
   "source": [
    "plt.hist(v[cut0],histtype='step',density='true',label=np.mean)\n",
    "plt.hist(v[cut1],histtype='step',density='true')\n",
    "plt.hist(v[cut2],histtype='step',density='true')"
   ]
  }
 ],
 "metadata": {
  "kernelspec": {
   "display_name": "Python 3",
   "language": "python",
   "name": "python3"
  },
  "language_info": {
   "codemirror_mode": {
    "name": "ipython",
    "version": 3
   },
   "file_extension": ".py",
   "mimetype": "text/x-python",
   "name": "python",
   "nbconvert_exporter": "python",
   "pygments_lexer": "ipython3",
   "version": "3.7.3"
  }
 },
 "nbformat": 4,
 "nbformat_minor": 4
}
