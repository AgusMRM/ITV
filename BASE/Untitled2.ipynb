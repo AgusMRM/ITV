{
 "cells": [
  {
   "cell_type": "code",
   "execution_count": 2,
   "metadata": {},
   "outputs": [
    {
     "name": "stdout",
     "output_type": "stream",
     "text": [
      "Populating the interactive namespace from numpy and matplotlib\n"
     ]
    }
   ],
   "source": [
    "%pylab inline"
   ]
  },
  {
   "cell_type": "code",
   "execution_count": 42,
   "metadata": {},
   "outputs": [],
   "source": [
    "#r0=np.loadtxt('S1373_resi.dat')\n",
    "#b=np.loadtxt('S1373_base.dat')\n",
    "r0=np.loadtxt('particlesprofile.dat')"
   ]
  },
  {
   "cell_type": "code",
   "execution_count": 45,
   "metadata": {},
   "outputs": [],
   "source": [
    "ddm=(3*(70.3**2)*0.276)/(8*np.pi*(4.3e-9)*1e10)"
   ]
  },
  {
   "cell_type": "code",
   "execution_count": 47,
   "metadata": {},
   "outputs": [
    {
     "data": {
      "text/plain": [
       "Text(0.5, 1.0, 'DENSIDAD S1373')"
      ]
     },
     "execution_count": 47,
     "metadata": {},
     "output_type": "execute_result"
    },
    {
     "data": {
      "image/png": "[encoded data removed]",
      "text/plain": [
       "<Figure size 432x288 with 1 Axes>"
      ]
     },
     "metadata": {
      "needs_background": "light"
     },
     "output_type": "display_data"
    }
   ],
   "source": [
    "#plt.plot(r0[:,0],(r0[:,1]/r0[:,6]-dgs)/dgs,color='blue',label='GAS')#\n",
    "plt.plot(r0[:,0],(r0[:,2]/r0[:,6]-ddm)/ddm,color='red',label='DM')\n",
    "#plt.plot(r0[:,0],(r0[:,3]/r0[:,6]-dtd)/dtd,color='darkred',label='DM+TID')\n",
    "#plt.plot(r0[:,0],(r0[:,4]/r0[:,6]-dst)/dst,color='orange',label='ESTRELLAS')\n",
    "#plt.plot(r0[:,0],(r0[:,5]/r0[:,6]-dtt)/dtt,color='black',label='TOTAL')\n",
    "\n",
    "#plt.plot(b[:,0],(b[:,1]/b[:,2]-ddm)/ddm,color='grey',linestyle='--',label='BASE')\n",
    "plt.legend()\n",
    "plt.semilogx()\n",
    "plt.title('DENSIDAD S1373')"
   ]
  }
 ],
 "metadata": {
  "kernelspec": {
   "display_name": "Python 3",
   "language": "python",
   "name": "python3"
  },
  "language_info": {
   "codemirror_mode": {
    "name": "ipython",
    "version": 3
   },
   "file_extension": ".py",
   "mimetype": "text/x-python",
   "name": "python",
   "nbconvert_exporter": "python",
   "pygments_lexer": "ipython3",
   "version": "3.7.3"
  }
 },
 "nbformat": 4,
 "nbformat_minor": 4
}
