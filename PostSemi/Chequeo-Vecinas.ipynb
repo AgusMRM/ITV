{
 "cells": [
  {
   "cell_type": "code",
   "execution_count": 1,
   "metadata": {},
   "outputs": [
    {
     "name": "stdout",
     "output_type": "stream",
     "text": [
      "Populating the interactive namespace from numpy and matplotlib\n"
     ]
    }
   ],
   "source": [
    "%pylab inline\n",
    "import pynbody"
   ]
  },
  {
   "cell_type": "markdown",
   "metadata": {},
   "source": [
    "para chequear si estoy ordenando bien las particulas que leo para calcular las vecinas, voy a seleccionar una region de la simu de pocas particulas y hacer los calculos a mano, comparandolos con los calculos que me da el programa. "
   ]
  },
  {
   "cell_type": "code",
   "execution_count": 24,
   "metadata": {},
   "outputs": [],
   "source": [
    "p=np.loadtxt('/home/arodriguez/Void-s-Gastrophysics/PostSemi/Vecinas/particulas_check.dat')\n",
    "t=np.loadtxt('/home/arodriguez/Void-s-Gastrophysics/PostSemi/Vecinas/vecinas_void_st.dat')"
   ]
  },
  {
   "cell_type": "code",
   "execution_count": 26,
   "metadata": {},
   "outputs": [
    {
     "data": {
      "text/plain": [
       "array([99.9677277 , 77.8026428 ,  0.        ,  0.25572249,  2.        ])"
      ]
     },
     "execution_count": 26,
     "metadata": {},
     "output_type": "execute_result"
    }
   ],
   "source": [
    "t"
   ]
  },
  {
   "cell_type": "code",
   "execution_count": 25,
   "metadata": {},
   "outputs": [
    {
     "data": {
      "text/plain": [
       "[<matplotlib.lines.Line2D at 0x7f5c5df783c8>]"
      ]
     },
     "execution_count": 25,
     "metadata": {},
     "output_type": "execute_result"
    },
    {
     "data": {
      "image/png": "[encoded data removed]",
      "text/plain": [
       "<Figure size 432x288 with 1 Axes>"
      ]
     },
     "metadata": {
      "needs_background": "light"
     },
     "output_type": "display_data"
    }
   ],
   "source": [
    "plt.plot(p[:,0],p[:,1],'.k')\n",
    "plt.plot(t[0],t[1],color='red',markersize=23)\n",
    "#plt.xlim(96.35,96.45)\n",
    "#plt.ylim(77.47,77.52)"
   ]
  },
  {
   "cell_type": "markdown",
   "metadata": {},
   "source": [
    "Correr el programa densV_check.f90 con el modulo modV_check.f90 de la carpeta /home/arodriguez/Void-s-Gastrophysics/PostSemi/Vecinas y se obtiene las distancias mutuas entre las particulas junto con el vector de distancias ordenado, parece andar correctamente. "
   ]
  }
 ],
 "metadata": {
  "kernelspec": {
   "display_name": "Python 3",
   "language": "python",
   "name": "python3"
  },
  "language_info": {
   "codemirror_mode": {
    "name": "ipython",
    "version": 3
   },
   "file_extension": ".py",
   "mimetype": "text/x-python",
   "name": "python",
   "nbconvert_exporter": "python",
   "pygments_lexer": "ipython3",
   "version": "3.7.3"
  }
 },
 "nbformat": 4,
 "nbformat_minor": 4
}
