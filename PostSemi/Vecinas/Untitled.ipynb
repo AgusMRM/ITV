{
 "cells": [
  {
   "cell_type": "code",
   "execution_count": 1,
   "metadata": {},
   "outputs": [
    {
     "name": "stdout",
     "output_type": "stream",
     "text": [
      "Populating the interactive namespace from numpy and matplotlib\n"
     ]
    }
   ],
   "source": [
    "%pylab inline"
   ]
  },
  {
   "cell_type": "code",
   "execution_count": 2,
   "metadata": {},
   "outputs": [],
   "source": [
    "mass_gs1= 0.018172996\n",
    "mass_dm1= 0.09328805"
   ]
  },
  {
   "cell_type": "code",
   "execution_count": 13,
   "metadata": {},
   "outputs": [],
   "source": [
    "t=np.loadtxt('/home/arodriguez/Void-s-Gastrophysics/PostSemi/CosmoBox/vecinas_void_dm.dat')"
   ]
  },
  {
   "cell_type": "code",
   "execution_count": 15,
   "metadata": {},
   "outputs": [
    {
     "data": {
      "text/plain": [
       "(array([2.000e+00, 0.000e+00, 0.000e+00, 1.000e+00, 0.000e+00, 1.000e+00,\n",
       "        0.000e+00, 1.000e+00, 2.000e+00, 3.000e+00, 3.000e+00, 3.000e+00,\n",
       "        5.000e+00, 5.000e+00, 5.000e+00, 7.000e+00, 2.000e+00, 1.200e+01,\n",
       "        1.800e+01, 1.300e+01, 2.600e+01, 1.000e+01, 1.600e+01, 1.000e+01,\n",
       "        1.700e+01, 2.000e+01, 1.200e+01, 2.700e+01, 1.900e+01, 2.600e+01,\n",
       "        4.000e+01, 2.500e+01, 2.900e+01, 2.800e+01, 2.000e+01, 2.400e+01,\n",
       "        3.800e+01, 2.300e+01, 3.400e+01, 4.200e+01, 5.100e+01, 3.300e+01,\n",
       "        3.200e+01, 4.700e+01, 6.000e+01, 6.200e+01, 5.000e+01, 6.400e+01,\n",
       "        7.000e+01, 7.200e+01, 6.500e+01, 5.900e+01, 7.700e+01, 6.400e+01,\n",
       "        6.100e+01, 7.500e+01, 8.100e+01, 8.200e+01, 1.040e+02, 1.090e+02,\n",
       "        1.100e+02, 9.500e+01, 1.010e+02, 1.130e+02, 1.060e+02, 1.120e+02,\n",
       "        8.800e+01, 1.090e+02, 1.160e+02, 1.140e+02, 1.170e+02, 1.400e+02,\n",
       "        1.210e+02, 1.150e+02, 1.090e+02, 1.310e+02, 1.440e+02, 1.360e+02,\n",
       "        1.270e+02, 1.140e+02, 1.300e+02, 1.470e+02, 1.330e+02, 1.660e+02,\n",
       "        1.620e+02, 1.870e+02, 1.910e+02, 1.840e+02, 1.910e+02, 2.050e+02,\n",
       "        1.890e+02, 2.160e+02, 1.770e+02, 1.900e+02, 1.920e+02, 2.050e+02,\n",
       "        2.070e+02, 2.290e+02, 2.110e+02, 2.610e+02, 2.640e+02, 2.340e+02,\n",
       "        2.750e+02, 2.400e+02, 2.300e+02, 2.510e+02, 2.490e+02, 2.500e+02,\n",
       "        2.540e+02, 2.450e+02, 2.520e+02, 2.690e+02, 2.840e+02, 2.610e+02,\n",
       "        2.890e+02, 3.200e+02, 3.050e+02, 3.060e+02, 3.230e+02, 3.500e+02,\n",
       "        3.400e+02, 3.190e+02, 3.060e+02, 3.320e+02, 3.340e+02, 3.710e+02,\n",
       "        3.430e+02, 3.520e+02, 3.900e+02, 3.620e+02, 3.760e+02, 4.060e+02,\n",
       "        4.080e+02, 3.880e+02, 4.420e+02, 4.320e+02, 4.000e+02, 4.340e+02,\n",
       "        4.210e+02, 4.300e+02, 4.840e+02, 5.030e+02, 4.890e+02, 4.490e+02,\n",
       "        5.750e+02, 4.880e+02, 4.770e+02, 5.330e+02, 6.070e+02, 5.990e+02,\n",
       "        6.100e+02, 6.450e+02, 6.290e+02, 6.610e+02, 6.540e+02, 6.400e+02,\n",
       "        6.180e+02, 5.940e+02, 6.510e+02, 6.210e+02, 6.880e+02, 6.160e+02,\n",
       "        6.580e+02, 6.710e+02, 6.710e+02, 6.770e+02, 6.750e+02, 6.710e+02,\n",
       "        7.300e+02, 7.460e+02, 7.300e+02, 7.360e+02, 8.010e+02, 8.910e+02,\n",
       "        9.080e+02, 9.160e+02, 9.290e+02, 9.470e+02, 9.510e+02, 9.530e+02,\n",
       "        1.037e+03, 1.145e+03, 1.045e+03, 1.062e+03, 1.052e+03, 1.099e+03,\n",
       "        1.022e+03, 1.063e+03, 1.038e+03, 1.094e+03, 1.109e+03, 1.021e+03,\n",
       "        1.083e+03, 1.061e+03, 1.103e+03, 1.057e+03, 1.073e+03, 1.064e+03,\n",
       "        9.900e+02, 1.076e+03, 1.127e+03, 1.035e+03, 1.003e+03, 1.065e+03,\n",
       "        1.037e+03, 9.290e+02, 9.450e+02, 9.230e+02, 9.010e+02, 8.870e+02,\n",
       "        8.690e+02, 8.680e+02, 8.280e+02, 8.490e+02, 8.650e+02, 8.600e+02,\n",
       "        8.550e+02, 8.350e+02, 8.920e+02, 8.650e+02, 9.010e+02, 7.620e+02,\n",
       "        7.860e+02, 7.650e+02, 8.500e+02, 7.220e+02, 7.540e+02, 7.280e+02,\n",
       "        7.970e+02, 7.650e+02, 6.840e+02, 7.630e+02, 7.040e+02, 7.250e+02,\n",
       "        6.670e+02, 7.040e+02, 6.400e+02, 7.120e+02, 6.520e+02, 6.810e+02,\n",
       "        6.530e+02, 6.570e+02, 6.580e+02, 5.990e+02, 6.500e+02, 6.150e+02,\n",
       "        5.900e+02, 6.680e+02, 6.440e+02, 6.030e+02, 6.010e+02, 6.380e+02,\n",
       "        5.950e+02, 6.150e+02, 5.930e+02, 6.240e+02, 6.390e+02, 6.320e+02,\n",
       "        6.010e+02, 6.050e+02, 6.330e+02, 5.830e+02, 6.400e+02, 6.740e+02,\n",
       "        6.340e+02, 6.510e+02, 6.280e+02, 6.430e+02, 6.770e+02, 6.610e+02,\n",
       "        6.460e+02, 6.200e+02, 6.250e+02, 6.300e+02, 5.970e+02, 5.670e+02,\n",
       "        6.430e+02, 6.460e+02, 6.140e+02, 6.210e+02, 6.360e+02, 6.520e+02,\n",
       "        6.390e+02, 7.020e+02, 7.030e+02, 7.020e+02, 6.960e+02, 6.620e+02,\n",
       "        7.480e+02, 6.820e+02, 7.030e+02, 7.110e+02, 7.230e+02, 7.250e+02,\n",
       "        7.300e+02, 7.190e+02, 7.130e+02, 7.340e+02, 6.730e+02, 7.580e+02,\n",
       "        7.590e+02, 7.280e+02, 7.490e+02, 7.360e+02, 7.220e+02, 6.990e+02,\n",
       "        7.580e+02, 7.070e+02, 7.060e+02, 6.910e+02, 7.200e+02, 6.400e+02,\n",
       "        6.880e+02, 6.480e+02, 5.910e+02, 5.900e+02, 5.660e+02, 5.490e+02,\n",
       "        5.040e+02, 4.780e+02, 4.760e+02, 4.700e+02, 4.160e+02, 3.820e+02,\n",
       "        4.080e+02, 3.690e+02, 3.680e+02, 3.040e+02, 3.170e+02, 3.140e+02,\n",
       "        3.150e+02, 2.500e+02, 2.530e+02, 2.290e+02, 2.360e+02, 2.450e+02,\n",
       "        2.210e+02, 2.090e+02, 2.150e+02, 1.960e+02, 1.980e+02, 1.800e+02,\n",
       "        1.730e+02, 1.740e+02, 1.650e+02, 1.640e+02, 1.430e+02, 1.460e+02,\n",
       "        1.440e+02, 1.420e+02, 1.410e+02, 1.170e+02, 1.150e+02, 9.400e+01,\n",
       "        1.010e+02, 9.600e+01, 1.040e+02, 1.070e+02, 8.500e+01, 8.600e+01,\n",
       "        9.000e+01, 8.900e+01, 7.700e+01, 6.900e+01, 7.200e+01, 4.300e+01,\n",
       "        7.300e+01, 5.500e+01, 4.400e+01, 4.900e+01, 5.400e+01, 5.400e+01,\n",
       "        3.700e+01, 4.800e+01, 3.900e+01, 3.400e+01, 3.000e+01, 3.000e+01,\n",
       "        3.500e+01, 2.900e+01, 4.200e+01, 3.000e+01, 2.400e+01, 1.800e+01,\n",
       "        1.700e+01, 1.900e+01, 1.800e+01, 1.800e+01, 1.400e+01, 1.500e+01,\n",
       "        1.100e+01, 1.200e+01, 1.400e+01, 9.000e+00, 1.100e+01, 1.400e+01,\n",
       "        8.000e+00, 5.000e+00, 7.000e+00, 7.000e+00, 4.000e+00, 0.000e+00,\n",
       "        2.000e+00, 1.000e+00, 2.000e+00, 4.000e+00]),\n",
       " array([ 219.31200552,  239.91747448,  260.52294345,  281.12841241,\n",
       "         301.73388138,  322.33935034,  342.9448193 ,  363.55028827,\n",
       "         384.15575723,  404.7612262 ,  425.36669516,  445.97216413,\n",
       "         466.57763309,  487.18310206,  507.78857102,  528.39403998,\n",
       "         548.99950895,  569.60497791,  590.21044688,  610.81591584,\n",
       "         631.42138481,  652.02685377,  672.63232274,  693.2377917 ,\n",
       "         713.84326066,  734.44872963,  755.05419859,  775.65966756,\n",
       "         796.26513652,  816.87060549,  837.47607445,  858.08154341,\n",
       "         878.68701238,  899.29248134,  919.89795031,  940.50341927,\n",
       "         961.10888824,  981.7143572 , 1002.31982617, 1022.92529513,\n",
       "        1043.53076409, 1064.13623306, 1084.74170202, 1105.34717099,\n",
       "        1125.95263995, 1146.55810892, 1167.16357788, 1187.76904685,\n",
       "        1208.37451581, 1228.97998477, 1249.58545374, 1270.1909227 ,\n",
       "        1290.79639167, 1311.40186063, 1332.0073296 , 1352.61279856,\n",
       "        1373.21826752, 1393.82373649, 1414.42920545, 1435.03467442,\n",
       "        1455.64014338, 1476.24561235, 1496.85108131, 1517.45655028,\n",
       "        1538.06201924, 1558.6674882 , 1579.27295717, 1599.87842613,\n",
       "        1620.4838951 , 1641.08936406, 1661.69483303, 1682.30030199,\n",
       "        1702.90577096, 1723.51123992, 1744.11670888, 1764.72217785,\n",
       "        1785.32764681, 1805.93311578, 1826.53858474, 1847.14405371,\n",
       "        1867.74952267, 1888.35499163, 1908.9604606 , 1929.56592956,\n",
       "        1950.17139853, 1970.77686749, 1991.38233646, 2011.98780542,\n",
       "        2032.59327439, 2053.19874335, 2073.80421231, 2094.40968128,\n",
       "        2115.01515024, 2135.62061921, 2156.22608817, 2176.83155714,\n",
       "        2197.4370261 , 2218.04249506, 2238.64796403, 2259.25343299,\n",
       "        2279.85890196, 2300.46437092, 2321.06983989, 2341.67530885,\n",
       "        2362.28077782, 2382.88624678, 2403.49171574, 2424.09718471,\n",
       "        2444.70265367, 2465.30812264, 2485.9135916 , 2506.51906057,\n",
       "        2527.12452953, 2547.7299985 , 2568.33546746, 2588.94093642,\n",
       "        2609.54640539, 2630.15187435, 2650.75734332, 2671.36281228,\n",
       "        2691.96828125, 2712.57375021, 2733.17921917, 2753.78468814,\n",
       "        2774.3901571 , 2794.99562607, 2815.60109503, 2836.206564  ,\n",
       "        2856.81203296, 2877.41750193, 2898.02297089, 2918.62843985,\n",
       "        2939.23390882, 2959.83937778, 2980.44484675, 3001.05031571,\n",
       "        3021.65578468, 3042.26125364, 3062.86672261, 3083.47219157,\n",
       "        3104.07766053, 3124.6831295 , 3145.28859846, 3165.89406743,\n",
       "        3186.49953639, 3207.10500536, 3227.71047432, 3248.31594328,\n",
       "        3268.92141225, 3289.52688121, 3310.13235018, 3330.73781914,\n",
       "        3351.34328811, 3371.94875707, 3392.55422604, 3413.159695  ,\n",
       "        3433.76516396, 3454.37063293, 3474.97610189, 3495.58157086,\n",
       "        3516.18703982, 3536.79250879, 3557.39797775, 3578.00344672,\n",
       "        3598.60891568, 3619.21438464, 3639.81985361, 3660.42532257,\n",
       "        3681.03079154, 3701.6362605 , 3722.24172947, 3742.84719843,\n",
       "        3763.45266739, 3784.05813636, 3804.66360532, 3825.26907429,\n",
       "        3845.87454325, 3866.48001222, 3887.08548118, 3907.69095015,\n",
       "        3928.29641911, 3948.90188807, 3969.50735704, 3990.112826  ,\n",
       "        4010.71829497, 4031.32376393, 4051.9292329 , 4072.53470186,\n",
       "        4093.14017082, 4113.74563979, 4134.35110875, 4154.95657772,\n",
       "        4175.56204668, 4196.16751565, 4216.77298461, 4237.37845358,\n",
       "        4257.98392254, 4278.5893915 , 4299.19486047, 4319.80032943,\n",
       "        4340.4057984 , 4361.01126736, 4381.61673633, 4402.22220529,\n",
       "        4422.82767426, 4443.43314322, 4464.03861218, 4484.64408115,\n",
       "        4505.24955011, 4525.85501908, 4546.46048804, 4567.06595701,\n",
       "        4587.67142597, 4608.27689493, 4628.8823639 , 4649.48783286,\n",
       "        4670.09330183, 4690.69877079, 4711.30423976, 4731.90970872,\n",
       "        4752.51517769, 4773.12064665, 4793.72611561, 4814.33158458,\n",
       "        4834.93705354, 4855.54252251, 4876.14799147, 4896.75346044,\n",
       "        4917.3589294 , 4937.96439837, 4958.56986733, 4979.17533629,\n",
       "        4999.78080526, 5020.38627422, 5040.99174319, 5061.59721215,\n",
       "        5082.20268112, 5102.80815008, 5123.41361904, 5144.01908801,\n",
       "        5164.62455697, 5185.23002594, 5205.8354949 , 5226.44096387,\n",
       "        5247.04643283, 5267.6519018 , 5288.25737076, 5308.86283972,\n",
       "        5329.46830869, 5350.07377765, 5370.67924662, 5391.28471558,\n",
       "        5411.89018455, 5432.49565351, 5453.10112247, 5473.70659144,\n",
       "        5494.3120604 , 5514.91752937, 5535.52299833, 5556.1284673 ,\n",
       "        5576.73393626, 5597.33940523, 5617.94487419, 5638.55034315,\n",
       "        5659.15581212, 5679.76128108, 5700.36675005, 5720.97221901,\n",
       "        5741.57768798, 5762.18315694, 5782.78862591, 5803.39409487,\n",
       "        5823.99956383, 5844.6050328 , 5865.21050176, 5885.81597073,\n",
       "        5906.42143969, 5927.02690866, 5947.63237762, 5968.23784658,\n",
       "        5988.84331555, 6009.44878451, 6030.05425348, 6050.65972244,\n",
       "        6071.26519141, 6091.87066037, 6112.47612934, 6133.0815983 ,\n",
       "        6153.68706726, 6174.29253623, 6194.89800519, 6215.50347416,\n",
       "        6236.10894312, 6256.71441209, 6277.31988105, 6297.92535002,\n",
       "        6318.53081898, 6339.13628794, 6359.74175691, 6380.34722587,\n",
       "        6400.95269484, 6421.5581638 , 6442.16363277, 6462.76910173,\n",
       "        6483.37457069, 6503.98003966, 6524.58550862, 6545.19097759,\n",
       "        6565.79644655, 6586.40191552, 6607.00738448, 6627.61285345,\n",
       "        6648.21832241, 6668.82379137, 6689.42926034, 6710.0347293 ,\n",
       "        6730.64019827, 6751.24566723, 6771.8511362 , 6792.45660516,\n",
       "        6813.06207413, 6833.66754309, 6854.27301205, 6874.87848102,\n",
       "        6895.48394998, 6916.08941895, 6936.69488791, 6957.30035688,\n",
       "        6977.90582584, 6998.5112948 , 7019.11676377, 7039.72223273,\n",
       "        7060.3277017 , 7080.93317066, 7101.53863963, 7122.14410859,\n",
       "        7142.74957756, 7163.35504652, 7183.96051548, 7204.56598445,\n",
       "        7225.17145341, 7245.77692238, 7266.38239134, 7286.98786031,\n",
       "        7307.59332927, 7328.19879823, 7348.8042672 , 7369.40973616,\n",
       "        7390.01520513, 7410.62067409, 7431.22614306, 7451.83161202,\n",
       "        7472.43708099, 7493.04254995, 7513.64801891, 7534.25348788,\n",
       "        7554.85895684, 7575.46442581, 7596.06989477, 7616.67536374,\n",
       "        7637.2808327 , 7657.88630167, 7678.49177063, 7699.09723959,\n",
       "        7719.70270856, 7740.30817752, 7760.91364649, 7781.51911545,\n",
       "        7802.12458442, 7822.73005338, 7843.33552234, 7863.94099131,\n",
       "        7884.54646027, 7905.15192924, 7925.7573982 , 7946.36286717,\n",
       "        7966.96833613, 7987.5738051 , 8008.17927406, 8028.78474302,\n",
       "        8049.39021199, 8069.99568095, 8090.60114992, 8111.20661888,\n",
       "        8131.81208785, 8152.41755681, 8173.02302578, 8193.62849474,\n",
       "        8214.2339637 , 8234.83943267, 8255.44490163, 8276.0503706 ,\n",
       "        8296.65583956, 8317.26130853, 8337.86677749, 8358.47224645,\n",
       "        8379.07771542, 8399.68318438, 8420.28865335, 8440.89412231,\n",
       "        8461.49959128, 8482.10506024, 8502.71052921, 8523.31599817,\n",
       "        8543.92146713, 8564.5269361 , 8585.13240506]),\n",
       " <a list of 1 Patch objects>)"
      ]
     },
     "execution_count": 15,
     "metadata": {},
     "output_type": "execute_result"
    },
    {
     "data": {
      "image/png": "[encoded data removed]",
      "text/plain": [
       "<Figure size 432x288 with 1 Axes>"
      ]
     },
     "metadata": {
      "needs_background": "light"
     },
     "output_type": "display_data"
    }
   ],
   "source": [
    "plt.hist(50/t[:,3],bins=40)\n",
    "plt.hist((50/t0[:,3]),bins=int(np.sqrt(len(t0))),histtype='step')\n"
   ]
  },
  {
   "cell_type": "code",
   "execution_count": 7,
   "metadata": {},
   "outputs": [
    {
     "data": {
      "text/plain": [
       "625"
      ]
     },
     "execution_count": 7,
     "metadata": {},
     "output_type": "execute_result"
    }
   ],
   "source": [
    "25**2"
   ]
  },
  {
   "cell_type": "code",
   "execution_count": null,
   "metadata": {},
   "outputs": [],
   "source": []
  },
  {
   "cell_type": "code",
   "execution_count": null,
   "metadata": {},
   "outputs": [],
   "source": []
  },
  {
   "cell_type": "code",
   "execution_count": null,
   "metadata": {},
   "outputs": [],
   "source": []
  },
  {
   "cell_type": "code",
   "execution_count": 3,
   "metadata": {},
   "outputs": [],
   "source": [
    "h=np.loadtxt('/mnt/is2/dpaz/ITV/S1373/halos/halos_50.ascii',skiprows=19)"
   ]
  },
  {
   "cell_type": "code",
   "execution_count": 4,
   "metadata": {},
   "outputs": [],
   "source": [
    "cut, = np.where(h[:,1]>100)"
   ]
  },
  {
   "cell_type": "code",
   "execution_count": 5,
   "metadata": {},
   "outputs": [
    {
     "name": "stdout",
     "output_type": "stream",
     "text": [
      "el radio virial mas chico es: 25.408716 Kpc\n"
     ]
    }
   ],
   "source": [
    "print('el radio virial mas chico es:',np.min(h[cut,4]),'Kpc')"
   ]
  },
  {
   "cell_type": "code",
   "execution_count": 6,
   "metadata": {},
   "outputs": [
    {
     "data": {
      "text/plain": [
       "1.0537974257425742"
      ]
     },
     "execution_count": 6,
     "metadata": {},
     "output_type": "execute_result"
    }
   ],
   "source": [
    "np.max(h[cut,4]/h[cut,1])"
   ]
  },
  {
   "cell_type": "code",
   "execution_count": 10,
   "metadata": {},
   "outputs": [],
   "source": [
    "t0=np.loadtxt('vecinas_Rout_dm_50.dat')\n",
    "t1=np.loadtxt('vecinas_Rout_dm_100.dat')\n",
    "t2=np.loadtxt('vecinas_Rout_dm_150.dat')\n",
    "\n",
    "g0=np.loadtxt('vecinas_Rout_gs_50.dat')\n",
    "g1=np.loadtxt('vecinas_Rout_gs_100.dat')\n",
    "g2=np.loadtxt('vecinas_Rout_gs_150.dat')"
   ]
  },
  {
   "cell_type": "code",
   "execution_count": 11,
   "metadata": {},
   "outputs": [
    {
     "data": {
      "text/plain": [
       "0.005796958241865134"
      ]
     },
     "execution_count": 11,
     "metadata": {},
     "output_type": "execute_result"
    }
   ],
   "source": [
    "vc0=(4./3.)*np.pi*(0.01**3)\n",
    "dc=(50*mass_dm1)/vc0\n",
    "vc1=(50*mass_gs1)/dc\n",
    "(vc1*3/(4*np.pi))**(1./3.)"
   ]
  },
  {
   "cell_type": "code",
   "execution_count": 12,
   "metadata": {},
   "outputs": [
    {
     "data": {
      "text/plain": [
       "[]"
      ]
     },
     "execution_count": 12,
     "metadata": {},
     "output_type": "execute_result"
    },
    {
     "data": {
      "image/png": "[encoded data removed]",
      "text/plain": [
       "<Figure size 936x936 with 3 Axes>"
      ]
     },
     "metadata": {
      "needs_background": "light"
     },
     "output_type": "display_data"
    }
   ],
   "source": [
    "plt.figure(figsize=(13,13))\n",
    "plt.subplot(221)\n",
    "plt.hist((50/t0[:,3]),bins=int(np.sqrt(len(t0))),histtype='step')\n",
    "#plt.vlines(x=0.008,ymin=0,ymax=1e4)\n",
    "plt.semilogx()\n",
    "\n",
    "plt.subplot(222)\n",
    "plt.hist(t1[:,3],bins=int(np.sqrt(len(t0))),histtype='step')\n",
    "plt.vlines(x=0.016,ymin=0,ymax=1e4)\n",
    "\n",
    "plt.semilogx()\n",
    "\n",
    "plt.subplot(223)\n",
    "plt.hist(t2[:,3],bins=int(np.sqrt(len(t0))),histtype='step')\n",
    "plt.vlines(x=0.008,ymin=0,ymax=1e4)\n",
    "\n",
    "plt.semilogx()\n"
   ]
  },
  {
   "cell_type": "code",
   "execution_count": 12,
   "metadata": {},
   "outputs": [
    {
     "data": {
      "text/plain": [
       "[]"
      ]
     },
     "execution_count": 12,
     "metadata": {},
     "output_type": "execute_result"
    },
    {
     "data": {
      "image/png": "[encoded data removed]",
      "text/plain": [
       "<Figure size 936x936 with 3 Axes>"
      ]
     },
     "metadata": {
      "needs_background": "light"
     },
     "output_type": "display_data"
    }
   ],
   "source": [
    "plt.figure(figsize=(13,13))\n",
    "plt.subplot(221)\n",
    "plt.hist(g0[:,3],bins=int(np.sqrt(len(g0))),histtype='step')\n",
    "plt.vlines(x=0.0058,ymin=0,ymax=1e4)\n",
    "plt.semilogx()\n",
    "\n",
    "plt.subplot(222)\n",
    "plt.hist(g1[:,3],bins=int(np.sqrt(len(g0))),histtype='step')\n",
    "plt.vlines(x=0.0,ymin=0,ymax=1e4)\n",
    "\n",
    "plt.semilogx()\n",
    "\n",
    "plt.subplot(223)\n",
    "plt.hist(g2[:,3],bins=int(np.sqrt(len(g0))),histtype='step')\n",
    "#plt.vlines(x=0.02,ymin=0,ymax=1e4)\n",
    "\n",
    "plt.semilogx()\n"
   ]
  },
  {
   "cell_type": "code",
   "execution_count": 66,
   "metadata": {},
   "outputs": [
    {
     "name": "stderr",
     "output_type": "stream",
     "text": [
      "No handles with labels found to put in legend.\n"
     ]
    },
    {
     "data": {
      "text/plain": [
       "<matplotlib.legend.Legend at 0x7fd4f56cd5f8>"
      ]
     },
     "execution_count": 66,
     "metadata": {},
     "output_type": "execute_result"
    },
    {
     "data": {
      "image/png": "[encoded data removed]",
      "text/plain": [
       "<Figure size 432x288 with 1 Axes>"
      ]
     },
     "metadata": {
      "needs_background": "light"
     },
     "output_type": "display_data"
    }
   ],
   "source": [
    "t=np.loadtxt('vecinas_void_dm.dat')\n",
    "plt.hist(t[:,3],histtype='step',bins=int(np.sqrt(len(t))))\n",
    "plt.legend()"
   ]
  }
 ],
 "metadata": {
  "kernelspec": {
   "display_name": "Python 3",
   "language": "python",
   "name": "python3"
  },
  "language_info": {
   "codemirror_mode": {
    "name": "ipython",
    "version": 3
   },
   "file_extension": ".py",
   "mimetype": "text/x-python",
   "name": "python",
   "nbconvert_exporter": "python",
   "pygments_lexer": "ipython3",
   "version": "3.7.3"
  }
 },
 "nbformat": 4,
 "nbformat_minor": 4
}
