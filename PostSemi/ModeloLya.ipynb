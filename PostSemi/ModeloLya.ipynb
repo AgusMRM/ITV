{
 "cells": [
  {
   "cell_type": "code",
   "execution_count": 1,
   "metadata": {},
   "outputs": [
    {
     "name": "stdout",
     "output_type": "stream",
     "text": [
      "Populating the interactive namespace from numpy and matplotlib\n"
     ]
    }
   ],
   "source": [
    "%pylab inline\n",
    "import pynbody"
   ]
  },
  {
   "cell_type": "code",
   "execution_count": 68,
   "metadata": {},
   "outputs": [],
   "source": [
    "# LA FUNCION TEMP DEPENDE DE UNA DENSIDAD EN G/CM3 Y TIEMPO EN AÑOS\n",
    "nu=1.7\n",
    "Tj=5.8e4        # K\n",
    "t10=1e10        # years\n",
    "rhoj=1.1e-28    # g/cm3\n",
    "def temp(rho,t):\n",
    "    rho=rho*((1.99e43)/(2.9e73))\n",
    "    logT = np.log10(Tj) + (1./nu)*np.log(nu*t*rho/(t10*rhoj))\n",
    "    return logT"
   ]
  },
  {
   "cell_type": "code",
   "execution_count": 31,
   "metadata": {},
   "outputs": [],
   "source": [
    "path='/mnt/is2/dpaz/ITV/S1373/out/'\n",
    "s0=pynbody.load(path+'snapshot_050')\n",
    "\n",
    "a0=s0.properties['a']\n",
    "gas0=s0.gas\n",
    "pos0=gas0['pos']\n",
    "ne0=gas0['ne']\n",
    "u0=gas0['u']\n",
    "rho0=gas0['rho']/a0**3\n",
    "rho0c=gas0['rho']\n",
    "xbox=403.8960 \n",
    "ybox=459.8882\n",
    "zbox=440.9021 \n",
    "xc=408.205481 - xbox + 250 \n",
    "yc=457.777839 - ybox + 250   \n",
    "zc=441.538681 - zbox + 250\n",
    "r0=np.sqrt((pos0[:,0]-xc)**2+(pos0[:,1]-yc)**2+(pos0[:,2]-zc)**2)\n",
    "maxdist=8\n",
    "\n",
    "xH=0.76\n",
    "yHe=(1.0-xH)/(4.0*xH)\n",
    "mp=1.6726E-24\n",
    "kcgs=1.3807E-16\n",
    "vv=1e10\n",
    "\n",
    "mu=(1.0-yHe)/(1+yHe+ne0)\n",
    "te0=(5./3.-1.)*u0*vv*mu*(mp/kcgs)\n",
    "\n",
    "cut0,=np.where(r0<maxdist)"
   ]
  },
  {
   "cell_type": "code",
   "execution_count": 4,
   "metadata": {},
   "outputs": [],
   "source": [
    "gas=s0.gas\n",
    "dens=gas['rho']"
   ]
  },
  {
   "cell_type": "code",
   "execution_count": 50,
   "metadata": {},
   "outputs": [],
   "source": [
    "d=np.arange(0.1,100,10)\n",
    "d=np.array(d)\n",
    "#d*1.989e43/3.085678e24"
   ]
  },
  {
   "cell_type": "code",
   "execution_count": 51,
   "metadata": {},
   "outputs": [
    {
     "data": {
      "text/plain": [
       "array([ 0.1, 10.1, 20.1, 30.1, 40.1, 50.1, 60.1, 70.1, 80.1, 90.1])"
      ]
     },
     "execution_count": 51,
     "metadata": {},
     "output_type": "execute_result"
    }
   ],
   "source": [
    "d"
   ]
  },
  {
   "cell_type": "code",
   "execution_count": 67,
   "metadata": {},
   "outputs": [
    {
     "data": {
      "text/plain": [
       "[<matplotlib.lines.Line2D at 0x7f02e116bc88>]"
      ]
     },
     "execution_count": 67,
     "metadata": {},
     "output_type": "execute_result"
    },
    {
     "data": {
      "image/png": "[encoded data removed]",
      "text/plain": [
       "<Figure size 432x288 with 1 Axes>"
      ]
     },
     "metadata": {
      "needs_background": "light"
     },
     "output_type": "display_data"
    }
   ],
   "source": [
    "dgs=(3*(100**2)*(0.045))/(8*np.pi*(4.3e-9)*1e10)\n",
    "\n",
    "#plt.plot(np.log10(rho0[cut0]),np.log10(te0[cut0]),'.k',markersize=.5,alpha=.9)\n",
    "\n",
    "plt.plot(np.log10(d/dgs),temp(d, 13.719e9))\n",
    "#plt.semilogx()"
   ]
  },
  {
   "cell_type": "code",
   "execution_count": 53,
   "metadata": {},
   "outputs": [
    {
     "data": {
      "text/plain": [
       "1.2491812393840622"
      ]
     },
     "execution_count": 53,
     "metadata": {},
     "output_type": "execute_result"
    }
   ],
   "source": [
    "dgs"
   ]
  }
 ],
 "metadata": {
  "kernelspec": {
   "display_name": "Python 3",
   "language": "python",
   "name": "python3"
  },
  "language_info": {
   "codemirror_mode": {
    "name": "ipython",
    "version": 3
   },
   "file_extension": ".py",
   "mimetype": "text/x-python",
   "name": "python",
   "nbconvert_exporter": "python",
   "pygments_lexer": "ipython3",
   "version": "3.7.3"
  }
 },
 "nbformat": 4,
 "nbformat_minor": 4
}
