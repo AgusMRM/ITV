{
 "cells": [
  {
   "cell_type": "code",
   "execution_count": 1,
   "metadata": {},
   "outputs": [
    {
     "name": "stdout",
     "output_type": "stream",
     "text": [
      "Populating the interactive namespace from numpy and matplotlib\n"
     ]
    }
   ],
   "source": [
    "%pylab inline\n",
    "import pynbody"
   ]
  },
  {
   "cell_type": "code",
   "execution_count": 24,
   "metadata": {},
   "outputs": [],
   "source": [
    "path='/mnt/is0/fstasys/512_b/512_mass/out/'\n",
    "s=pynbody.load(path+'snapshot_020')"
   ]
  },
  {
   "cell_type": "code",
   "execution_count": 28,
   "metadata": {},
   "outputs": [
    {
     "data": {
      "text/plain": [
       "134217728"
      ]
     },
     "execution_count": 28,
     "metadata": {},
     "output_type": "execute_result"
    }
   ],
   "source": [
    "len(s.dm['mass'])"
   ]
  },
  {
   "cell_type": "code",
   "execution_count": 29,
   "metadata": {},
   "outputs": [
    {
     "data": {
      "text/plain": [
       "511.99999999999983"
      ]
     },
     "execution_count": 29,
     "metadata": {},
     "output_type": "execute_result"
    }
   ],
   "source": [
    "134217728**(1./3.)"
   ]
  },
  {
   "cell_type": "code",
   "execution_count": 25,
   "metadata": {},
   "outputs": [],
   "source": [
    "xmin= np.min(s.dm['pos'][:,0])\n",
    "xmax= np.max(s.dm['pos'][:,0])\n",
    "ymin= np.min(s.dm['pos'][:,1])\n",
    "ymax= np.max(s.dm['pos'][:,1])\n",
    "zmin= np.min(s.dm['pos'][:,2])\n",
    "zmax= np.max(s.dm['pos'][:,2])"
   ]
  },
  {
   "cell_type": "code",
   "execution_count": 26,
   "metadata": {},
   "outputs": [
    {
     "name": "stdout",
     "output_type": "stream",
     "text": [
      "124.99999\n",
      "124.99999\n",
      "124.99999\n"
     ]
    }
   ],
   "source": [
    "print(xmax-xmin)\n",
    "print(ymax-ymin)\n",
    "print(zmax-zmin)"
   ]
  },
  {
   "cell_type": "code",
   "execution_count": 22,
   "metadata": {},
   "outputs": [
    {
     "name": "stdout",
     "output_type": "stream",
     "text": [
      "xmin 209.39958\n",
      "xmax 291.68854\n",
      "ymin 206.94505\n",
      "ymax 288.89572\n",
      "zmin 210.78601\n",
      "zmax 292.55\n"
     ]
    }
   ],
   "source": [
    "print('xmin', np.min(s.dm['pos'][:,0]))\n",
    "print('xmax', np.max(s.dm['pos'][:,0]))\n",
    "print('ymin', np.min(s.dm['pos'][:,1]))\n",
    "print('ymax', np.max(s.dm['pos'][:,1]))\n",
    "print('zmin', np.min(s.dm['pos'][:,2]))\n",
    "print('zmax', np.max(s.dm['pos'][:,2]))"
   ]
  },
  {
   "cell_type": "code",
   "execution_count": null,
   "metadata": {},
   "outputs": [],
   "source": []
  }
 ],
 "metadata": {
  "kernelspec": {
   "display_name": "Python 3",
   "language": "python",
   "name": "python3"
  },
  "language_info": {
   "codemirror_mode": {
    "name": "ipython",
    "version": 3
   },
   "file_extension": ".py",
   "mimetype": "text/x-python",
   "name": "python",
   "nbconvert_exporter": "python",
   "pygments_lexer": "ipython3",
   "version": "3.7.3"
  }
 },
 "nbformat": 4,
 "nbformat_minor": 4
}
