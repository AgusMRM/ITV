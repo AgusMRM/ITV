{
 "cells": [
  {
   "cell_type": "code",
   "execution_count": 59,
   "metadata": {},
   "outputs": [
    {
     "name": "stdout",
     "output_type": "stream",
     "text": [
      "Populating the interactive namespace from numpy and matplotlib\n"
     ]
    }
   ],
   "source": [
    "%pylab inline\n",
    "import pynbody"
   ]
  },
  {
   "cell_type": "code",
   "execution_count": 17,
   "metadata": {},
   "outputs": [
    {
     "name": "stdout",
     "output_type": "stream",
     "text": [
      "masa de gas 0.006559436\n",
      "masa de DM 0.033671774\n",
      "masa de gas 0.018172996\n",
      "masa de DM 0.09328805\n"
     ]
    }
   ],
   "source": [
    "path='/mnt/is0/fstasys/512_b/out/snapdir_050/'\n",
    "s0=pynbody.load(path+'snapshot_050')\n",
    "gas=s0.gas\n",
    "masa_gs=gas['mass']\n",
    "print('masa de gas',masa_gs[0])\n",
    "dm=s0.dm\n",
    "masa_dm=dm['mass']\n",
    "print('masa de DM',masa_dm[0])\n",
    "mass_gs0=masa_gs[0]\n",
    "mass_dm0=masa_dm[0]\n",
    "\n",
    "path='/mnt/is2/dpaz/ITV/R1198/out/'\n",
    "s0=pynbody.load(path+'snapshot_050')\n",
    "gas=s0.gas\n",
    "masa_gs=gas['mass']\n",
    "print('masa de gas',masa_gs[0])\n",
    "dm=s0.dm\n",
    "masa_dm=dm['mass']\n",
    "print('masa de DM',masa_dm[0])\n",
    "mass_gs1=masa_gs[0]\n",
    "mass_dm1=masa_dm[0]"
   ]
  },
  {
   "cell_type": "code",
   "execution_count": 60,
   "metadata": {},
   "outputs": [
    {
     "name": "stdout",
     "output_type": "stream",
     "text": [
      "masa de gas 0.018172996\n",
      "masa de DM 0.09328805\n"
     ]
    }
   ],
   "source": [
    "path='/mnt/is2/dpaz/ITV/S1373/out/'\n",
    "s0=pynbody.load(path+'snapshot_050')\n",
    "gas=s0.gas\n",
    "masa_gs=gas['mass']\n",
    "print('masa de gas',masa_gs[0])\n",
    "dm=s0.dm\n",
    "masa_dm=dm['mass']\n",
    "print('masa de DM',masa_dm[0])\n",
    "mass_gs1=masa_gs[0]\n",
    "mass_dm1=masa_dm[0]"
   ]
  },
  {
   "cell_type": "code",
   "execution_count": 18,
   "metadata": {},
   "outputs": [
    {
     "data": {
      "text/plain": [
       "13.852559295597663"
      ]
     },
     "execution_count": 18,
     "metadata": {},
     "output_type": "execute_result"
    }
   ],
   "source": [
    "5*mass_dm1/mass_dm0"
   ]
  },
  {
   "cell_type": "code",
   "execution_count": 49,
   "metadata": {},
   "outputs": [
    {
     "name": "stdout",
     "output_type": "stream",
     "text": [
      "elimine 1 estrellas por baja densiadd local, sobre unas 3692 de la muestra\n"
     ]
    }
   ],
   "source": [
    "vst=np.loadtxt('vecinas_void_st.dat')\n",
    "vgs=np.loadtxt('vecinas_void_gs.dat')\n",
    "vdm=np.loadtxt('vecinas_void_dm.dat')\n",
    "cut=np.where(vst[:,4]>=5)      # quiero eliminar aquellas estrellas que tienen densidades locales muy bajas\n",
    "print('elimine',len(cut),'estrellas por baja densiadd local, sobre unas', len(vst), 'de la muestra')\n",
    "vvst=(4./3.)*3.14*vst[cut,3]**3   #volumen en Mpc3/h\n",
    "vvgs=(4./3.)*3.14*vgs[:,3]**3\n",
    "vvdm=(4./3.)*3.14*vdm[:,3]**3\n",
    "\n",
    "vvst=np.array(vvst)\n",
    "vvgs=np.array(vvgs)\n",
    "vvdm=np.array(vvdm)"
   ]
  },
  {
   "cell_type": "code",
   "execution_count": 50,
   "metadata": {},
   "outputs": [
    {
     "data": {
      "text/plain": [
       "(1, 3684)"
      ]
     },
     "execution_count": 50,
     "metadata": {},
     "output_type": "execute_result"
    }
   ],
   "source": [
    "np.shape(cut)"
   ]
  },
  {
   "cell_type": "code",
   "execution_count": 55,
   "metadata": {},
   "outputs": [
    {
     "name": "stdout",
     "output_type": "stream",
     "text": [
      "elimine 1 estrellas por baja densiadd local, sobre unas 1000 de la muestra\n"
     ]
    }
   ],
   "source": [
    "bst=np.loadtxt('vecinas_base_st.dat')\n",
    "bgs=np.loadtxt('vecinas_base_gs.dat')\n",
    "bdm=np.loadtxt('vecinas_base_dm.dat')\n",
    "cut=np.where(bst[:,4]>=14)      # quiero eliminar aquellas estrellas que tienen densidades locales muy bajas\n",
    "print('elimine',len(cut),'estrellas por baja densiadd local, sobre unas', len(bst), 'de la muestra')\n",
    "vbst=(4./3.)*3.14*bst[cut,3]**3   #volumen en Mpc3/h\n",
    "vbgs=(4./3.)*3.14*bgs[:,3]**3\n",
    "vbdm=(4./3.)*3.14*bdm[:,3]**3\n",
    "\n",
    "vbst=np.array(vbst)\n",
    "vbgs=np.array(vbgs)\n",
    "vbdm=np.array(vbdm)"
   ]
  },
  {
   "cell_type": "code",
   "execution_count": null,
   "metadata": {},
   "outputs": [],
   "source": [
    "\n",
    "\n"
   ]
  }
 ],
 "metadata": {
  "kernelspec": {
   "display_name": "Python 3",
   "language": "python",
   "name": "python3"
  },
  "language_info": {
   "codemirror_mode": {
    "name": "ipython",
    "version": 3
   },
   "file_extension": ".py",
   "mimetype": "text/x-python",
   "name": "python",
   "nbconvert_exporter": "python",
   "pygments_lexer": "ipython3",
   "version": "3.7.3"
  }
 },
 "nbformat": 4,
 "nbformat_minor": 4
}
