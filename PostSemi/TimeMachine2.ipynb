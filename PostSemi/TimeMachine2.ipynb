{
 "cells": [
  {
   "cell_type": "code",
   "execution_count": 2,
   "metadata": {},
   "outputs": [],
   "source": [
    "#ACA LO HAGO EN UNIDADES NO COMOVILES"
   ]
  },
  {
   "cell_type": "code",
   "execution_count": 3,
   "metadata": {},
   "outputs": [
    {
     "name": "stdout",
     "output_type": "stream",
     "text": [
      "Populating the interactive namespace from numpy and matplotlib\n"
     ]
    }
   ],
   "source": [
    "%pylab inline\n",
    "import pynbody"
   ]
  },
  {
   "cell_type": "code",
   "execution_count": 4,
   "metadata": {},
   "outputs": [],
   "source": [
    "path='/mnt/is2/dpaz/ITV/S1373/out/'\n",
    "s0=pynbody.load(path+'snapshot_050')"
   ]
  },
  {
   "cell_type": "code",
   "execution_count": 5,
   "metadata": {},
   "outputs": [],
   "source": [
    "gas0=s0.gas\n",
    "pos0=gas0['pos']\n",
    "ne0=gas0['ne']\n",
    "u0=gas0['u']\n",
    "rho0=gas0['rho']"
   ]
  },
  {
   "cell_type": "code",
   "execution_count": 6,
   "metadata": {},
   "outputs": [],
   "source": [
    "xbox=403.8960 \n",
    "ybox=459.8882\n",
    "zbox=440.9021 \n",
    "xc=408.205481 - xbox + 250 \n",
    "yc=457.777839 - ybox + 250   \n",
    "zc=441.538681 - zbox + 250\n",
    "\n",
    "r0=np.sqrt((pos0[:,0]-xc)**2+(pos0[:,1]-yc)**2+(pos0[:,2]-zc)**2)"
   ]
  },
  {
   "cell_type": "code",
   "execution_count": 39,
   "metadata": {},
   "outputs": [],
   "source": [
    "#selecciono mi void\n",
    "rv=9\n",
    "cutv0, = np.where(r0<rv)"
   ]
  },
  {
   "cell_type": "code",
   "execution_count": 40,
   "metadata": {},
   "outputs": [],
   "source": [
    "xH=0.76\n",
    "yHe=(1.0-xH)/(4.0*xH)\n",
    "mu0=(1.0-yHe)/(1+yHe+ne0)\n",
    "mp=1.6726E-24\n",
    "kcgs=1.3807E-16\n",
    "vv=1e10\n",
    "a=s0.properties['a']\n",
    "te0=(5./3.-1.)*u0*vv*mu0*(mp/kcgs)"
   ]
  },
  {
   "cell_type": "code",
   "execution_count": 41,
   "metadata": {},
   "outputs": [
    {
     "data": {
      "image/png": "[encoded data removed]",
      "text/plain": [
       "<Figure size 504x504 with 1 Axes>"
      ]
     },
     "metadata": {
      "needs_background": "light"
     },
     "output_type": "display_data"
    }
   ],
   "source": [
    "plt.figure(figsize=(7,7))\n",
    "h=plt.hist2d(np.log10(rho0[cutv0]),np.log10(te0[cutv0]),density='true',bins=20,range=([-3,9],[2,8.5]))"
   ]
  },
  {
   "cell_type": "code",
   "execution_count": 25,
   "metadata": {},
   "outputs": [],
   "source": [
    "r2=18\n",
    "r1=12\n",
    "xH=0.76\n",
    "yHe=(1.0-xH)/(4.0*xH)\n",
    "mp=1.6726E-24\n",
    "kcgs=1.3807E-16\n",
    "vv=1e10"
   ]
  },
  {
   "cell_type": "code",
   "execution_count": 58,
   "metadata": {},
   "outputs": [],
   "source": [
    "path='/mnt/is2/dpaz/ITV/S1373/out/'\n",
    "t=pynbody.load(path+'snapshot_020')\n",
    "gas=t.gas\n",
    "pos=gas['pos']\n",
    "u=gas['u']\n",
    "ne=gas['ne']\n",
    "rho=gas['rho']\n",
    "redshift=1./t.properties['a']-1\n",
    "a=t.properties['a']\n",
    "mu=(1.0-yHe)/(1+yHe+ne)\n",
    "te=(5./3.-1.)*u*vv*mu*(mp/kcgs)\n",
    "tec=(5./3.-1.)*u*vv*mu*(mp/kcgs)*a**2\n",
    "r=np.sqrt((pos[:,0]-xc)**2+(pos[:,1]-yc)**2+(pos[:,2]-zc)**2)\n",
    "cut, = np.where((r<r2) & (r>r1))"
   ]
  },
  {
   "cell_type": "code",
   "execution_count": 59,
   "metadata": {},
   "outputs": [],
   "source": [
    "path='/mnt/is2/dpaz/ITV/S1373/out/'\n",
    "t2=pynbody.load(path+'snapshot_040')\n",
    "gas=t2.gas\n",
    "pos=gas['pos']\n",
    "u=gas['u']\n",
    "ne=gas['ne']\n",
    "rho2=gas['rho']\n",
    "redshift=1./t3.properties['a']-1\n",
    "a=t2.properties['a']\n",
    "mu=(1.0-yHe)/(1+yHe+ne)\n",
    "te2=(5./3.-1.)*u*vv*mu*(mp/kcgs)\n",
    "te2c=(5./3.-1.)*u*vv*mu*(mp/kcgs)*a**2\n",
    "r=np.sqrt((pos[:,0]-xc)**2+(pos[:,1]-yc)**2+(pos[:,2]-zc)**2)\n",
    "cut2, = np.where((r<r2) & (r>r1))"
   ]
  },
  {
   "cell_type": "code",
   "execution_count": 60,
   "metadata": {},
   "outputs": [],
   "source": [
    "path='/mnt/is2/dpaz/ITV/S1373/out/'\n",
    "t3=pynbody.load(path+'snapshot_050')\n",
    "gas=t3.gas\n",
    "pos=gas['pos']\n",
    "u=gas['u']\n",
    "ne=gas['ne']\n",
    "rho3=gas['rho']\n",
    "redshift=1./t3.properties['a']-1\n",
    "a=t3.properties['a']\n",
    "mu=(1.0-yHe)/(1+yHe+ne)\n",
    "te3=(5./3.-1.)*u*vv*mu*(mp/kcgs)\n",
    "te3c=(5./3.-1.)*u*vv*mu*(mp/kcgs)*a**2\n",
    "r=np.sqrt((pos[:,0]-xc)**2+(pos[:,1]-yc)**2+(pos[:,2]-zc)**2)\n",
    "cut3, = np.where((r<r2) & (r>r1))"
   ]
  },
  {
   "cell_type": "code",
   "execution_count": null,
   "metadata": {},
   "outputs": [
    {
     "data": {
      "text/plain": [
       "[<matplotlib.lines.Line2D at 0x7f223405e048>]"
      ]
     },
     "execution_count": 61,
     "metadata": {},
     "output_type": "execute_result"
    }
   ],
   "source": [
    "plt.figure(figsize=(7,15))\n",
    "\n",
    "plt.subplot(121)\n",
    "plt.plot(np.log10(rho3[cut3]),np.log10(te3[cut3]),ls='none',marker='.',markersize=.05,color='green')\n",
    "plt.plot(np.log10(rho2[cut2]),np.log10(te2[cut2]),ls='none',marker='.',markersize=.05,alpha=1,color='blue')\n",
    "plt.plot(np.log10(rho[cut]),np.log10(te[cut]),ls='none',marker='.',markersize=.05,alpha=1,color='red')\n",
    "\n",
    "plt.subplot(122)\n",
    "plt.plot(np.log10(rho3[cut3]),np.log10(te3c[cut3]),ls='none',marker='.',markersize=.05,color='green')\n",
    "plt.plot(np.log10(rho2[cut2]),np.log10(te2c[cut2]),ls='none',marker='.',markersize=.05,alpha=1,color='blue')\n",
    "plt.plot(np.log10(rho[cut]),np.log10(tec[cut]),ls='none',marker='.',markersize=.05,alpha=1,color='red')"
   ]
  },
  {
   "cell_type": "code",
   "execution_count": null,
   "metadata": {},
   "outputs": [],
   "source": []
  }
 ],
 "metadata": {
  "kernelspec": {
   "display_name": "Python 3",
   "language": "python",
   "name": "python3"
  },
  "language_info": {
   "codemirror_mode": {
    "name": "ipython",
    "version": 3
   },
   "file_extension": ".py",
   "mimetype": "text/x-python",
   "name": "python",
   "nbconvert_exporter": "python",
   "pygments_lexer": "ipython3",
   "version": "3.7.3"
  }
 },
 "nbformat": 4,
 "nbformat_minor": 4
}
