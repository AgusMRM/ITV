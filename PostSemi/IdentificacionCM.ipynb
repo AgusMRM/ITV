{
 "cells": [
  {
   "cell_type": "code",
   "execution_count": 1,
   "metadata": {},
   "outputs": [
    {
     "name": "stdout",
     "output_type": "stream",
     "text": [
      "Populating the interactive namespace from numpy and matplotlib\n"
     ]
    }
   ],
   "source": [
    "%pylab inline\n",
    "import pynbody"
   ]
  },
  {
   "cell_type": "markdown",
   "metadata": {},
   "source": [
    "VOID S"
   ]
  },
  {
   "cell_type": "code",
   "execution_count": 2,
   "metadata": {},
   "outputs": [],
   "source": [
    "path='/mnt/is2/dpaz/ITV/S1373/out/'\n",
    "s0=pynbody.load(path+'snapshot_000')"
   ]
  },
  {
   "cell_type": "code",
   "execution_count": 3,
   "metadata": {},
   "outputs": [
    {
     "data": {
      "text/plain": [
       "['idgn', 'pos', 'vel', 'iord', 'idch', 'mass']"
      ]
     },
     "execution_count": 3,
     "metadata": {},
     "output_type": "execute_result"
    }
   ],
   "source": [
    "s0.loadable_keys()"
   ]
  },
  {
   "cell_type": "code",
   "execution_count": 4,
   "metadata": {},
   "outputs": [],
   "source": [
    "pos=s0.dm['pos']\n",
    "id=s0.dm['iord']"
   ]
  },
  {
   "cell_type": "code",
   "execution_count": 5,
   "metadata": {},
   "outputs": [
    {
     "name": "stdout",
     "output_type": "stream",
     "text": [
      "289.7025 212.87085 76.831665\n",
      "288.93124 211.85428 77.076965\n",
      "289.6733 212.63364 77.03967\n"
     ]
    }
   ],
   "source": [
    "print(np.max(pos[:,0]),np.min(pos[:,0]),np.max(pos[:,0])-np.min(pos[:,0]))\n",
    "print(np.max(pos[:,1]),np.min(pos[:,1]),np.max(pos[:,1])-np.min(pos[:,1]))\n",
    "print(np.max(pos[:,2]),np.min(pos[:,2]),np.max(pos[:,2])-np.min(pos[:,2]))"
   ]
  },
  {
   "cell_type": "code",
   "execution_count": 7,
   "metadata": {},
   "outputs": [
    {
     "data": {
      "text/plain": [
       "288.4"
      ]
     },
     "execution_count": 7,
     "metadata": {},
     "output_type": "execute_result"
    }
   ],
   "source": [
    "76.8/2.+250"
   ]
  },
  {
   "cell_type": "code",
   "execution_count": 6,
   "metadata": {},
   "outputs": [],
   "source": [
    "#realizo un corte alrededor del centro del void\n",
    "cut0,=np.where(np.sqrt((pos[:,0]-250)**2+(pos[:,1]-250)**2+(pos[:,2]-250)**2)< 76.831665/2.  )"
   ]
  },
  {
   "cell_type": "code",
   "execution_count": 7,
   "metadata": {},
   "outputs": [],
   "source": [
    "#id_interest es ahora un array que tiene todos los id de las particulas que quiero..\n",
    "id_interest = id[cut0]"
   ]
  },
  {
   "cell_type": "code",
   "execution_count": 8,
   "metadata": {},
   "outputs": [],
   "source": [
    "path='/mnt/is2/dpaz/ITV/S1373/out/'\n",
    "s50=pynbody.load(path+'snapshot_050')\n",
    "id50=s50.dm['iord']\n",
    "pos50=s50.dm['pos']"
   ]
  },
  {
   "cell_type": "code",
   "execution_count": 11,
   "metadata": {},
   "outputs": [
    {
     "data": {
      "text/plain": [
       "SimArray(29791000, dtype=int32)"
      ]
     },
     "execution_count": 11,
     "metadata": {},
     "output_type": "execute_result"
    }
   ],
   "source": [
    "np.min(id50 ) "
   ]
  },
  {
   "cell_type": "code",
   "execution_count": null,
   "metadata": {},
   "outputs": [
    {
     "name": "stderr",
     "output_type": "stream",
     "text": [
      "Exception ignored in: <function SimArray.__del__ at 0x7f14175e8ea0>\n",
      "Traceback (most recent call last):\n",
      "  File \"/home/arodriguez/miniconda3/lib/python3.7/site-packages/pynbody/array.py\", line 654, in __del__\n",
      "    def __del__(self):\n",
      "KeyboardInterrupt\n"
     ]
    }
   ],
   "source": [
    "x=[]\n",
    "y=[]\n",
    "z=[]\n",
    "for i in range(len(id)):\n",
    "    part=id_interest[i]\n",
    "    cut,= np.where(id50==part)\n",
    "    x.append(pos50[cut,0])\n",
    "    y.append(pos50[cut,1])\n",
    "    z.append(pos50[cut,2])\n",
    "\n",
    "x=np.array(x)\n",
    "y=np.array(y)\n",
    "z=np.array(z)"
   ]
  },
  {
   "cell_type": "code",
   "execution_count": null,
   "metadata": {},
   "outputs": [],
   "source": []
  },
  {
   "cell_type": "code",
   "execution_count": null,
   "metadata": {},
   "outputs": [],
   "source": []
  }
 ],
 "metadata": {
  "kernelspec": {
   "display_name": "Python 3",
   "language": "python",
   "name": "python3"
  },
  "language_info": {
   "codemirror_mode": {
    "name": "ipython",
    "version": 3
   },
   "file_extension": ".py",
   "mimetype": "text/x-python",
   "name": "python",
   "nbconvert_exporter": "python",
   "pygments_lexer": "ipython3",
   "version": "3.7.3"
  }
 },
 "nbformat": 4,
 "nbformat_minor": 4
}
