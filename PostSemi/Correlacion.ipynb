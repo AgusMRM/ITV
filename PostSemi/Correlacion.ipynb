{
 "cells": [
  {
   "cell_type": "code",
   "execution_count": 24,
   "metadata": {},
   "outputs": [
    {
     "name": "stdout",
     "output_type": "stream",
     "text": [
      "Populating the interactive namespace from numpy and matplotlib\n"
     ]
    }
   ],
   "source": [
    "%pylab inline"
   ]
  },
  {
   "cell_type": "markdown",
   "metadata": {},
   "source": [
    "Necesito calcular la densidad de pares teoricos para calcular la funcion de correlacion. Para ver la correlacion con las estrellas o el gas necesito primero saber cuantas estrellas se me forman, para esto voy a necesitar el box homogeneo. Pero en el caso de la correlacion estrella-materia oscura voy a necesitar ver en un box a una dada masa por particulas, cuantas particulas tengo. \n",
    "Yo estaba trabajando con un box de 200 Mpc (correlacion.f90), y mi masa por particula de dm es masa_dm=0.09328805"
   ]
  },
  {
   "cell_type": "code",
   "execution_count": 72,
   "metadata": {},
   "outputs": [
    {
     "name": "stdout",
     "output_type": "stream",
     "text": [
      "5.499065482024637e+52\n"
     ]
    }
   ],
   "source": [
    "masa_dm = 0.09328805\n",
    "lbox    = 200e6\n",
    "vol=lbox**3\n",
    "ddm=1e6*(3*(100**2)*(0.276-0.045))/(8*np.pi*(4.3e-9)*1e-10)\n",
    "npart=ddm*vol/(masa_dm)\n",
    "print(npart)\n",
    "trazers=4891\n",
    "dpares=trazers*npart/vol"
   ]
  },
  {
   "cell_type": "code",
   "execution_count": 59,
   "metadata": {},
   "outputs": [],
   "source": [
    "t=np.loadtxt('/home/arodriguez/Void-s-Gastrophysics/PostSemi/CosmoBox/correlacion_st.dat')"
   ]
  },
  {
   "cell_type": "code",
   "execution_count": 65,
   "metadata": {},
   "outputs": [],
   "source": [
    "pares_teoricos=[]\n",
    "r0=0\n",
    "for i in range(len(t)):\n",
    "    v=(4./3.)*np.pi*(t[i,0]**3-r0**3)\n",
    "    pares_teoricos.append(dpares*v)\n",
    "    r0=t[i,0]    \n",
    "\n",
    "pares_teoricos=np.array(pares_teoricos)"
   ]
  },
  {
   "cell_type": "code",
   "execution_count": 66,
   "metadata": {},
   "outputs": [],
   "source": [
    "xi=(t[:,1])/(pares_teoricos)-1."
   ]
  },
  {
   "cell_type": "code",
   "execution_count": 70,
   "metadata": {},
   "outputs": [
    {
     "data": {
      "text/plain": [
       "[<matplotlib.lines.Line2D at 0x7ffb0cf259b0>]"
      ]
     },
     "execution_count": 70,
     "metadata": {},
     "output_type": "execute_result"
    },
    {
     "data": {
      "image/png": "[encoded data removed]",
      "text/plain": [
       "<Figure size 432x288 with 1 Axes>"
      ]
     },
     "metadata": {
      "needs_background": "light"
     },
     "output_type": "display_data"
    }
   ],
   "source": [
    "plt.plot(t[:,0],xi)\n"
   ]
  },
  {
   "cell_type": "code",
   "execution_count": 63,
   "metadata": {},
   "outputs": [
    {
     "data": {
      "text/plain": [
       "5.499065482024636e+32"
      ]
     },
     "execution_count": 63,
     "metadata": {},
     "output_type": "execute_result"
    }
   ],
   "source": [
    "npart"
   ]
  }
 ],
 "metadata": {
  "kernelspec": {
   "display_name": "Python 3",
   "language": "python",
   "name": "python3"
  },
  "language_info": {
   "codemirror_mode": {
    "name": "ipython",
    "version": 3
   },
   "file_extension": ".py",
   "mimetype": "text/x-python",
   "name": "python",
   "nbconvert_exporter": "python",
   "pygments_lexer": "ipython3",
   "version": "3.7.3"
  }
 },
 "nbformat": 4,
 "nbformat_minor": 4
}
