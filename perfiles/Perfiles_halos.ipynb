{
 "cells": [
  {
   "cell_type": "code",
   "execution_count": 1,
   "metadata": {},
   "outputs": [
    {
     "name": "stdout",
     "output_type": "stream",
     "text": [
      "Populating the interactive namespace from numpy and matplotlib\n"
     ]
    }
   ],
   "source": [
    "%pylab inline\n",
    "import pynbody"
   ]
  },
  {
   "cell_type": "code",
   "execution_count": 2,
   "metadata": {},
   "outputs": [],
   "source": [
    "path='/mnt/is2/fstasys/ITV/base09/out/'\n",
    "s0=pynbody.load(path+'snapshot_008')"
   ]
  },
  {
   "cell_type": "code",
   "execution_count": 3,
   "metadata": {},
   "outputs": [],
   "source": [
    "mdm=s0['mass']"
   ]
  },
  {
   "cell_type": "code",
   "execution_count": 4,
   "metadata": {},
   "outputs": [],
   "source": [
    "t=np.loadtxt('/mnt/is2/fstasys/ITV/base09/rockstar/out_0.list',skiprows=16)"
   ]
  },
  {
   "cell_type": "code",
   "execution_count": 22,
   "metadata": {},
   "outputs": [],
   "source": [
    "cut, = np.where (t[:,7]>=15)"
   ]
  },
  {
   "cell_type": "code",
   "execution_count": 13,
   "metadata": {},
   "outputs": [
    {
     "name": "stdout",
     "output_type": "stream",
     "text": [
      "cantidad de halos de interes: 491338\n"
     ]
    }
   ],
   "source": [
    "halos=len(t[cut,7])\n",
    "print('cantidad de halos de interes:',halos)"
   ]
  },
  {
   "cell_type": "code",
   "execution_count": 14,
   "metadata": {},
   "outputs": [],
   "source": [
    "dh=halos/(500**3)"
   ]
  },
  {
   "cell_type": "code",
   "execution_count": 15,
   "metadata": {},
   "outputs": [
    {
     "name": "stdout",
     "output_type": "stream",
     "text": [
      "masa de particula: 7.135462886550386\n",
      "menor masa de halo: 142.70925773100774\n"
     ]
    }
   ],
   "source": [
    "ddm=(3*(100**2)*(0.276))/(8*np.pi*(4.3e-9))\n",
    "mp=ddm*(500**3)/(512**3)/1e10\n",
    "print('masa de particula:',mp)\n",
    "print('menor masa de halo:',mp*20)"
   ]
  },
  {
   "cell_type": "code",
   "execution_count": 16,
   "metadata": {},
   "outputs": [],
   "source": [
    "tr=np.loadtxt('/home/arodriguez/Void-s-Gastrophysics/PostSemi/halosprop_R.dat')\n",
    "ts=np.loadtxt('/home/arodriguez/Void-s-Gastrophysics/PostSemi/halosprop_S.dat')\n",
    "masa_dm=0.09328805\n",
    "masa_gs=0.018172996"
   ]
  },
  {
   "cell_type": "code",
   "execution_count": 17,
   "metadata": {},
   "outputs": [
    {
     "data": {
      "text/plain": [
       "1231.7628477656924"
      ]
     },
     "execution_count": 17,
     "metadata": {},
     "output_type": "execute_result"
    }
   ],
   "source": [
    "mp*20*(1-masa_gs/masa_dm)/masa_dm"
   ]
  },
  {
   "cell_type": "code",
   "execution_count": 41,
   "metadata": {},
   "outputs": [
    {
     "data": {
      "text/plain": [
       "116.44"
      ]
     },
     "execution_count": 41,
     "metadata": {},
     "output_type": "execute_result"
    }
   ],
   "source": [
    "142*0.82"
   ]
  },
  {
   "cell_type": "code",
   "execution_count": 37,
   "metadata": {},
   "outputs": [
    {
     "data": {
      "text/plain": [
       "<matplotlib.legend.Legend at 0x7f67f15cdeb8>"
      ]
     },
     "execution_count": 37,
     "metadata": {},
     "output_type": "execute_result"
    },
    {
     "data": {
      "image/png": "[encoded data removed]",
      "text/plain": [
       "<Figure size 432x288 with 1 Axes>"
      ]
     },
     "metadata": {
      "needs_background": "light"
     },
     "output_type": "display_data"
    }
   ],
   "source": [
    "t1=np.loadtxt('/home/arodriguez/Void-s-Gastrophysics/PostSemi/CosmoBox/halosprofile_S.dat')\n",
    "t2=np.loadtxt('/home/arodriguez/Void-s-Gastrophysics/PostSemi/CosmoBox/halosprofile_R.dat')\n",
    "plt.plot(t1[:,0],(t1[:,1]/t1[:,2]-dh)/dh,label='S')\n",
    "plt.plot(t2[:,0],(t2[:,1]/t2[:,2]-dh)/dh,label='R')\n",
    "plt.legend()\n",
    "#plt.xlim(9,14)\n",
    "#plt.ylim(-1,-0.6)"
   ]
  },
  {
   "cell_type": "code",
   "execution_count": 38,
   "metadata": {},
   "outputs": [
    {
     "data": {
      "text/plain": [
       "array([-1.        , -1.        , -1.        , -1.        , -1.        ,\n",
       "       -1.        , -1.        , -1.        , -1.        , -1.        ,\n",
       "       -1.        , -1.        , -1.        , -1.        , -1.        ,\n",
       "       -1.        , -1.        , -1.        , -1.        , -1.        ,\n",
       "       -1.        , -1.        , -1.        , -0.67466108, -0.71215615,\n",
       "       -0.74410389, -0.77149352, -0.7951097 , -0.81558047, -0.8334126 ,\n",
       "       -0.84901791, -0.79410005, -0.81225493, -0.82833674, -0.84263298,\n",
       "       -0.85538484, -0.86679538, -0.87703634, -0.88625384, -0.89457263,\n",
       "       -0.86946614, -0.84821131, -0.7454009 , -0.68315625, -0.67912938,\n",
       "       -0.69960263, -0.675043  , -0.67459331, -0.67499297, -0.64012327,\n",
       "       -0.64392271, -0.64807525, -0.66762085, -0.67146098, -0.6755372 ,\n",
       "       -0.67980164, -0.65992242, -0.60804083, -0.58382619, -0.58346194,\n",
       "       -0.58379311, -0.59417006, -0.58620238, -0.58813567, -0.59866228,\n",
       "       -0.60880508, -0.60362389, -0.60654709, -0.60971188, -0.6065262 ,\n",
       "       -0.60406394, -0.61430597, -0.59524637, -0.60588298, -0.60011023,\n",
       "       -0.58494295, -0.58119576, -0.57339711, -0.57114312, -0.56066425,\n",
       "       -0.54710679, -0.5471554 , -0.53185426, -0.52939897, -0.52749913,\n",
       "       -0.51196157, -0.48760574, -0.48837113, -0.48627847, -0.46001336,\n",
       "       -0.4447842 , -0.42513861, -0.42390729, -0.39876551, -0.38606831,\n",
       "       -0.37200128, -0.35425354, -0.35230954, -0.34160025, -0.34315918])"
      ]
     },
     "execution_count": 38,
     "metadata": {},
     "output_type": "execute_result"
    }
   ],
   "source": [
    "(t2[:,1]/t2[:,2]-dh)/dh"
   ]
  },
  {
   "cell_type": "code",
   "execution_count": 40,
   "metadata": {},
   "outputs": [
    {
     "data": {
      "text/plain": [
       "array([ 0.150995  ,  0.45098499,  0.75097495,  1.05096507,  1.35095501,\n",
       "        1.65094507,  1.95093501,  2.25092483,  2.550915  ,  2.85090494,\n",
       "        3.15089488,  3.45088482,  3.750875  ,  4.0508647 ,  4.35085487,\n",
       "        4.65084505,  4.95083475,  5.25082493,  5.55081511,  5.85080481,\n",
       "        6.15079498,  6.45078468,  6.75077486,  7.05076504,  7.35075474,\n",
       "        7.65074492,  7.95073509,  8.25072575,  8.55071545,  8.85070515,\n",
       "        9.1506958 ,  9.4506855 ,  9.7506752 , 10.0506649 , 10.3506556 ,\n",
       "       10.6506453 , 10.950635  , 11.2506256 , 11.5506153 , 11.850605  ,\n",
       "       12.1505957 , 12.4505854 , 12.7505751 , 13.0505657 , 13.3505554 ,\n",
       "       13.6505451 , 13.9505358 , 14.2505255 , 14.5505152 , 14.8505049 ,\n",
       "       15.1504955 , 15.4504852 , 15.7504749 , 16.0504646 , 16.3504543 ,\n",
       "       16.650444  , 16.9504337 , 17.2504234 , 17.550415  , 17.8504047 ,\n",
       "       18.1503944 , 18.4503841 , 18.7503738 , 19.0503635 , 19.3503551 ,\n",
       "       19.6503448 , 19.9503345 , 20.2503242 , 20.5503139 , 20.8503036 ,\n",
       "       21.1502953 , 21.450285  , 21.7502747 , 22.0502644 , 22.3502541 ,\n",
       "       22.6502438 , 22.9502335 , 23.2502251 , 23.5502148 , 23.8502045 ,\n",
       "       24.1501942 , 24.4501839 , 24.7501736 , 25.0501652 , 25.3501549 ,\n",
       "       25.6501446 , 25.9501343 , 26.250124  , 26.5501137 , 26.8501034 ,\n",
       "       27.150095  , 27.4500847 , 27.7500744 , 28.0500641 , 28.3500538 ,\n",
       "       28.6500435 , 28.9500351 , 29.2500248 , 29.5500145 , 29.8500042 ])"
      ]
     },
     "execution_count": 40,
     "metadata": {},
     "output_type": "execute_result"
    }
   ],
   "source": [
    "t2[:,0]"
   ]
  },
  {
   "cell_type": "code",
   "execution_count": null,
   "metadata": {},
   "outputs": [],
   "source": []
  },
  {
   "cell_type": "code",
   "execution_count": null,
   "metadata": {},
   "outputs": [],
   "source": []
  },
  {
   "cell_type": "code",
   "execution_count": 18,
   "metadata": {},
   "outputs": [],
   "source": [
    "t1=np.loadtxt('/home/arodriguez/Void-s-Gastrophysics/PostSemi/CosmoBox/halosprofile_S760.dat')\n",
    "t2=np.loadtxt('/home/arodriguez/Void-s-Gastrophysics/PostSemi/CosmoBox/halosprofile_S615.dat')\n",
    "\n",
    "t3=np.loadtxt('/home/arodriguez/Void-s-Gastrophysics/PostSemi/CosmoBox/halosprofile_R760.dat')\n",
    "t4=np.loadtxt('/home/arodriguez/Void-s-Gastrophysics/PostSemi/CosmoBox/halosprofile_R615.dat')"
   ]
  },
  {
   "cell_type": "code",
   "execution_count": 19,
   "metadata": {},
   "outputs": [
    {
     "data": {
      "text/plain": [
       "<matplotlib.legend.Legend at 0x7f67f0712fd0>"
      ]
     },
     "execution_count": 19,
     "metadata": {},
     "output_type": "execute_result"
    },
    {
     "data": {
      "image/png": "[encoded data removed]",
      "text/plain": [
       "<Figure size 432x288 with 1 Axes>"
      ]
     },
     "metadata": {
      "needs_background": "light"
     },
     "output_type": "display_data"
    }
   ],
   "source": [
    "plt.plot(t1[:,0],(t1[:,1]/t1[:,2]-dh)/dh,label='corte 760')\n",
    "plt.plot(t2[:,0],(t2[:,1]/t2[:,2]-dh)/dh,label='corte 615')\n",
    "plt.plot(t3[:,0],(t3[:,1]/t3[:,2]-dh)/dh,label='corte 760')\n",
    "plt.plot(t4[:,0],(t4[:,1]/t4[:,2]-dh)/dh,label='corte 615')\n",
    "\n",
    "plt.hlines(y=-0.7, xmin=0,xmax=20,ls='--',lw=1)\n",
    "plt.xlabel('radio [Mpc]',size=15)\n",
    "plt.ylabel('$ \\Delta(r) $',size=15)\n",
    "plt.legend()\n",
    "#plt.ylim(-1,-0.5)\n",
    "#plt.xlim(9.5,13)"
   ]
  },
  {
   "cell_type": "code",
   "execution_count": 38,
   "metadata": {},
   "outputs": [
    {
     "data": {
      "text/plain": [
       "<matplotlib.legend.Legend at 0x7f72dac07ef0>"
      ]
     },
     "execution_count": 38,
     "metadata": {},
     "output_type": "execute_result"
    },
    {
     "data": {
      "image/png": "[encoded data removed]",
      "text/plain": [
       "<Figure size 432x288 with 1 Axes>"
      ]
     },
     "metadata": {
      "needs_background": "light"
     },
     "output_type": "display_data"
    }
   ],
   "source": [
    "t1=np.loadtxt('/home/arodriguez/Void-s-Gastrophysics/PostSemi/CosmoBox/halosprofile_S1230.dat')\n",
    "t2=np.loadtxt('/home/arodriguez/Void-s-Gastrophysics/PostSemi/CosmoBox/halosprofile_R1230.dat')\n",
    "plt.plot(t1[:,0],(t1[:,1]/t1[:,2]-dh)/dh,label='corte 1230')\n",
    "plt.plot(t2[:,0],(t2[:,1]/t2[:,2]-dh)/dh,label='corte 1230')\n",
    "\n",
    "\n",
    "plt.hlines(y=-0.7, xmin=0,xmax=20,ls='--',lw=1)\n",
    "plt.vlines(x=9.5, ymin=-1,ymax=0,ls='--',lw=1)\n",
    "\n",
    "plt.xlabel('radio [Mpc]',size=15)\n",
    "plt.ylabel('$ \\Delta(r) $',size=15)\n",
    "plt.legend()\n",
    "#plt.ylim(-1,-0.5)\n",
    "#plt.xlim(9.5,11)"
   ]
  }
 ],
 "metadata": {
  "kernelspec": {
   "display_name": "Python 3",
   "language": "python",
   "name": "python3"
  },
  "language_info": {
   "codemirror_mode": {
    "name": "ipython",
    "version": 3
   },
   "file_extension": ".py",
   "mimetype": "text/x-python",
   "name": "python",
   "nbconvert_exporter": "python",
   "pygments_lexer": "ipython3",
   "version": "3.7.3"
  }
 },
 "nbformat": 4,
 "nbformat_minor": 4
}
