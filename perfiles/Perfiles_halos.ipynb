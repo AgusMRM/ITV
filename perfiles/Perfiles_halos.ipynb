{
 "cells": [
  {
   "cell_type": "code",
   "execution_count": 1,
   "metadata": {},
   "outputs": [
    {
     "name": "stdout",
     "output_type": "stream",
     "text": [
      "Populating the interactive namespace from numpy and matplotlib\n"
     ]
    }
   ],
   "source": [
    "%pylab inline\n",
    "import pynbody"
   ]
  },
  {
   "cell_type": "code",
   "execution_count": 14,
   "metadata": {},
   "outputs": [],
   "source": [
    "path='/mnt/is2/fstasys/ITV/base09/out/'\n",
    "s0=pynbody.load(path+'snapshot_008')"
   ]
  },
  {
   "cell_type": "code",
   "execution_count": 16,
   "metadata": {},
   "outputs": [],
   "source": [
    "mdm=s0['mass']"
   ]
  },
  {
   "cell_type": "code",
   "execution_count": 4,
   "metadata": {},
   "outputs": [],
   "source": [
    "t=np.loadtxt('/mnt/is2/fstasys/ITV/base09/rockstar/out_0.list',skiprows=16)"
   ]
  },
  {
   "cell_type": "code",
   "execution_count": 10,
   "metadata": {},
   "outputs": [],
   "source": [
    "cut, = np.where (t[:,7]>=10)"
   ]
  },
  {
   "cell_type": "code",
   "execution_count": 11,
   "metadata": {},
   "outputs": [
    {
     "name": "stdout",
     "output_type": "stream",
     "text": [
      "cantidad de halos de interes: 850350\n"
     ]
    }
   ],
   "source": [
    "halos=len(t[cut,7])\n",
    "print('cantidad de halos de interes:',halos)"
   ]
  },
  {
   "cell_type": "code",
   "execution_count": 58,
   "metadata": {},
   "outputs": [],
   "source": [
    "dh=halos/(500**3)"
   ]
  },
  {
   "cell_type": "code",
   "execution_count": 18,
   "metadata": {},
   "outputs": [
    {
     "name": "stdout",
     "output_type": "stream",
     "text": [
      "masa de particula: 7.135462886550386\n",
      "menor masa de halo: 71.35462886550387\n"
     ]
    }
   ],
   "source": [
    "ddm=(3*(100**2)*(0.276))/(8*np.pi*(4.3e-9))\n",
    "mp=ddm*(500**3)/(512**3)/1e10\n",
    "print('masa de particula:',mp)\n",
    "print('menor masa de halo:',mp*10)"
   ]
  },
  {
   "cell_type": "code",
   "execution_count": 20,
   "metadata": {},
   "outputs": [],
   "source": [
    "tr=np.loadtxt('/home/arodriguez/Void-s-Gastrophysics/PostSemi/halosprop_R.dat')\n",
    "ts=np.loadtxt('/home/arodriguez/Void-s-Gastrophysics/PostSemi/halosprop_S.dat')\n",
    "masa_dm=0.09328805\n",
    "masa_gs=0.018172996"
   ]
  },
  {
   "cell_type": "code",
   "execution_count": 21,
   "metadata": {},
   "outputs": [],
   "source": [
    "mhl_r=tr[:,7]*masa_dm+tr[:,8]*masa_gs+tr[:,6]*masa_gs\n",
    "mhl_s=ts[:,7]*masa_dm+ts[:,8]*masa_gs+ts[:,6]*masa_gs"
   ]
  },
  {
   "cell_type": "code",
   "execution_count": 46,
   "metadata": {},
   "outputs": [],
   "source": [
    "cut_r, = np.where((mhl_r>71.3 ) & (tr[:,0]< 40))\n",
    "cut_s, = np.where((mhl_s>71.3 ) & (ts[:,0]< 40))"
   ]
  },
  {
   "cell_type": "code",
   "execution_count": 71,
   "metadata": {},
   "outputs": [
    {
     "name": "stderr",
     "output_type": "stream",
     "text": [
      "/home/arodriguez/miniconda3/lib/python3.7/site-packages/ipykernel_launcher.py:16: RuntimeWarning: invalid value encountered in double_scalars\n",
      "  app.launch_new_instance()\n"
     ]
    },
    {
     "data": {
      "text/plain": [
       "20"
      ]
     },
     "execution_count": 71,
     "metadata": {},
     "output_type": "execute_result"
    }
   ],
   "source": [
    "bines=20\n",
    "halos_r=np.zeros(bines)\n",
    "radio=np.zeros(bines)\n",
    "rmax=40\n",
    "abin=rmax/bines\n",
    "radio=np.arange(0,rmax,abin)\n",
    "vol=np.zeros(bines)\n",
    "dr=np.zeros(bines)\n",
    "for i in range(len(mhl_r[cut_r])):\n",
    "    bn=int((tr[cut_r,0][i]/abin))\n",
    "    halos_r[bn] = halos_r[bn] + 1\n",
    "\n",
    "r0=0\n",
    "for i in range(len(vol)):\n",
    "    vol[i]=((4./3.)*np.pi*(radio[i]**3-r0**3))\n",
    "    dr[i]=((halos_r[i]/vol[i]-dh)/dh)\n",
    "    r0=radio[i]\n",
    "    \n",
    "radio=np.arange(0,rmax,abin) + abin/2.\n",
    "len(vol)"
   ]
  },
  {
   "cell_type": "code",
   "execution_count": 72,
   "metadata": {},
   "outputs": [
    {
     "data": {
      "text/plain": [
       "[<matplotlib.lines.Line2D at 0x7f6c3aee1470>]"
      ]
     },
     "execution_count": 72,
     "metadata": {},
     "output_type": "execute_result"
    },
    {
     "data": {
      "image/png": "[encoded data removed]",
      "text/plain": [
       "<Figure size 432x288 with 1 Axes>"
      ]
     },
     "metadata": {
      "needs_background": "light"
     },
     "output_type": "display_data"
    }
   ],
   "source": [
    "plt.plot(radio,dr)"
   ]
  },
  {
   "cell_type": "code",
   "execution_count": null,
   "metadata": {},
   "outputs": [],
   "source": []
  }
 ],
 "metadata": {
  "kernelspec": {
   "display_name": "Python 3",
   "language": "python",
   "name": "python3"
  },
  "language_info": {
   "codemirror_mode": {
    "name": "ipython",
    "version": 3
   },
   "file_extension": ".py",
   "mimetype": "text/x-python",
   "name": "python",
   "nbconvert_exporter": "python",
   "pygments_lexer": "ipython3",
   "version": "3.7.3"
  }
 },
 "nbformat": 4,
 "nbformat_minor": 4
}
