{
 "cells": [
  {
   "cell_type": "code",
   "execution_count": 1,
   "metadata": {},
   "outputs": [
    {
     "name": "stdout",
     "output_type": "stream",
     "text": [
      "Populating the interactive namespace from numpy and matplotlib\n"
     ]
    }
   ],
   "source": [
    "%pylab inline\n",
    "import pynbody"
   ]
  },
  {
   "cell_type": "code",
   "execution_count": 2,
   "metadata": {},
   "outputs": [],
   "source": [
    "path='/mnt/is2/fstasys/ITV/base09/out/'\n",
    "s0=pynbody.load(path+'snapshot_008')"
   ]
  },
  {
   "cell_type": "code",
   "execution_count": 3,
   "metadata": {},
   "outputs": [],
   "source": [
    "mdm=s0['mass']"
   ]
  },
  {
   "cell_type": "code",
   "execution_count": 4,
   "metadata": {},
   "outputs": [],
   "source": [
    "t=np.loadtxt('/mnt/is2/fstasys/ITV/base09/rockstar/out_0.list',skiprows=16)"
   ]
  },
  {
   "cell_type": "code",
   "execution_count": 5,
   "metadata": {},
   "outputs": [],
   "source": [
    "cut, = np.where (t[:,7]>=10)"
   ]
  },
  {
   "cell_type": "code",
   "execution_count": 6,
   "metadata": {},
   "outputs": [
    {
     "name": "stdout",
     "output_type": "stream",
     "text": [
      "cantidad de halos de interes: 850350\n"
     ]
    }
   ],
   "source": [
    "halos=len(t[cut,7])\n",
    "print('cantidad de halos de interes:',halos)"
   ]
  },
  {
   "cell_type": "code",
   "execution_count": 7,
   "metadata": {},
   "outputs": [],
   "source": [
    "dh=halos/(500**3)"
   ]
  },
  {
   "cell_type": "code",
   "execution_count": 8,
   "metadata": {},
   "outputs": [
    {
     "name": "stdout",
     "output_type": "stream",
     "text": [
      "masa de particula: 7.135462886550386\n",
      "menor masa de halo: 142.70925773100774\n"
     ]
    }
   ],
   "source": [
    "ddm=(3*(100**2)*(0.276))/(8*np.pi*(4.3e-9))\n",
    "mp=ddm*(500**3)/(512**3)/1e10\n",
    "print('masa de particula:',mp)\n",
    "print('menor masa de halo:',mp*20)"
   ]
  },
  {
   "cell_type": "code",
   "execution_count": 9,
   "metadata": {},
   "outputs": [],
   "source": [
    "tr=np.loadtxt('/home/arodriguez/Void-s-Gastrophysics/PostSemi/halosprop_R.dat')\n",
    "ts=np.loadtxt('/home/arodriguez/Void-s-Gastrophysics/PostSemi/halosprop_S.dat')\n",
    "masa_dm=0.09328805\n",
    "masa_gs=0.018172996"
   ]
  },
  {
   "cell_type": "code",
   "execution_count": 10,
   "metadata": {},
   "outputs": [
    {
     "data": {
      "text/plain": [
       "1231.7628477656924"
      ]
     },
     "execution_count": 10,
     "metadata": {},
     "output_type": "execute_result"
    }
   ],
   "source": [
    "mp*20*(1-masa_gs/masa_dm)/masa_dm"
   ]
  },
  {
   "cell_type": "code",
   "execution_count": 23,
   "metadata": {},
   "outputs": [
    {
     "data": {
      "image/png": "[encoded data removed]",
      "text/plain": [
       "<Figure size 648x648 with 1 Axes>"
      ]
     },
     "metadata": {
      "needs_background": "light"
     },
     "output_type": "display_data"
    }
   ],
   "source": [
    "plt.figure(figsize=(9,9))\n",
    "t1=np.loadtxt('/home/arodriguez/Void-s-Gastrophysics/PostSemi/CosmoBox/halosprofile_S.dat')\n",
    "t2=np.loadtxt('/home/arodriguez/Void-s-Gastrophysics/PostSemi/CosmoBox/halosprofile_R.dat')\n",
    "plt.plot(t1[:,0],(t1[:,1]/t1[:,2]-dh)/dh,label='S',color='red',ls='dotted')\n",
    "plt.plot(t2[:,0],(t2[:,1]/t2[:,2]-dh)/dh,label='R',color='blue',ls='--')\n",
    "plt.legend(fontsize='x-large')\n",
    "plt.xlabel('$ r_{void}  $[Mpc]',size=20)\n",
    "plt.ylabel('$ \\Delta (r)$',size=20)\n",
    "#plt.savefig(fname='/home/arodriguez/Void-s-Gastrophysics/SeleccionGraficos/perfiles_halos.png',format='png')"
   ]
  },
  {
   "cell_type": "code",
   "execution_count": 18,
   "metadata": {},
   "outputs": [
    {
     "data": {
      "text/plain": [
       "\u001b[0;31mSignature:\u001b[0m \u001b[0mplt\u001b[0m\u001b[0;34m.\u001b[0m\u001b[0mlegend\u001b[0m\u001b[0;34m(\u001b[0m\u001b[0;34m*\u001b[0m\u001b[0margs\u001b[0m\u001b[0;34m,\u001b[0m \u001b[0;34m**\u001b[0m\u001b[0mkwargs\u001b[0m\u001b[0;34m)\u001b[0m\u001b[0;34m\u001b[0m\u001b[0;34m\u001b[0m\u001b[0m\n",
       "\u001b[0;31mDocstring:\u001b[0m\n",
       "Place a legend on the axes.\n",
       "\n",
       "Call signatures::\n",
       "\n",
       "    legend()\n",
       "    legend(labels)\n",
       "    legend(handles, labels)\n",
       "\n",
       "The call signatures correspond to three different ways how to use\n",
       "this method.\n",
       "\n",
       "**1. Automatic detection of elements to be shown in the legend**\n",
       "\n",
       "The elements to be added to the legend are automatically determined,\n",
       "when you do not pass in any extra arguments.\n",
       "\n",
       "In this case, the labels are taken from the artist. You can specify\n",
       "them either at artist creation or by calling the\n",
       ":meth:`~.Artist.set_label` method on the artist::\n",
       "\n",
       "    line, = ax.plot([1, 2, 3], label='Inline label')\n",
       "    ax.legend()\n",
       "\n",
       "or::\n",
       "\n",
       "    line.set_label('Label via method')\n",
       "    line, = ax.plot([1, 2, 3])\n",
       "    ax.legend()\n",
       "\n",
       "Specific lines can be excluded from the automatic legend element\n",
       "selection by defining a label starting with an underscore.\n",
       "This is default for all artists, so calling `Axes.legend` without\n",
       "any arguments and without setting the labels manually will result in\n",
       "no legend being drawn.\n",
       "\n",
       "\n",
       "**2. Labeling existing plot elements**\n",
       "\n",
       "To make a legend for lines which already exist on the axes\n",
       "(via plot for instance), simply call this function with an iterable\n",
       "of strings, one for each legend item. For example::\n",
       "\n",
       "    ax.plot([1, 2, 3])\n",
       "    ax.legend(['A simple line'])\n",
       "\n",
       "Note: This way of using is discouraged, because the relation between\n",
       "plot elements and labels is only implicit by their order and can\n",
       "easily be mixed up.\n",
       "\n",
       "\n",
       "**3. Explicitly defining the elements in the legend**\n",
       "\n",
       "For full control of which artists have a legend entry, it is possible\n",
       "to pass an iterable of legend artists followed by an iterable of\n",
       "legend labels respectively::\n",
       "\n",
       "    legend((line1, line2, line3), ('label1', 'label2', 'label3'))\n",
       "\n",
       "Parameters\n",
       "----------\n",
       "\n",
       "handles : sequence of `.Artist`, optional\n",
       "    A list of Artists (lines, patches) to be added to the legend.\n",
       "    Use this together with *labels*, if you need full control on what\n",
       "    is shown in the legend and the automatic mechanism described above\n",
       "    is not sufficient.\n",
       "\n",
       "    The length of handles and labels should be the same in this\n",
       "    case. If they are not, they are truncated to the smaller length.\n",
       "\n",
       "labels : sequence of strings, optional\n",
       "    A list of labels to show next to the artists.\n",
       "    Use this together with *handles*, if you need full control on what\n",
       "    is shown in the legend and the automatic mechanism described above\n",
       "    is not sufficient.\n",
       "\n",
       "Other Parameters\n",
       "----------------\n",
       "\n",
       "\n",
       "loc : str or pair of floats, default: :rc:`legend.loc` ('best' for axes, 'upper right' for figures)\n",
       "    The location of the legend.\n",
       "\n",
       "    The strings\n",
       "    ``'upper left', 'upper right', 'lower left', 'lower right'``\n",
       "    place the legend at the corresponding corner of the axes/figure.\n",
       "\n",
       "    The strings\n",
       "    ``'upper center', 'lower center', 'center left', 'center right'``\n",
       "    place the legend at the center of the corresponding edge of the\n",
       "    axes/figure.\n",
       "\n",
       "    The string ``'center'`` places the legend at the center of the axes/figure.\n",
       "\n",
       "    The string ``'best'`` places the legend at the location, among the nine\n",
       "    locations defined so far, with the minimum overlap with other drawn\n",
       "    artists.  This option can be quite slow for plots with large amounts of\n",
       "    data; your plotting speed may benefit from providing a specific location.\n",
       "\n",
       "    The location can also be a 2-tuple giving the coordinates of the lower-left\n",
       "    corner of the legend in axes coordinates (in which case *bbox_to_anchor*\n",
       "    will be ignored).\n",
       "\n",
       "    For back-compatibility, ``'center right'`` (but no other location) can also\n",
       "    be spelled ``'right'``, and each \"string\" locations can also be given as a\n",
       "    numeric value:\n",
       "\n",
       "        ===============   =============\n",
       "        Location String   Location Code\n",
       "        ===============   =============\n",
       "        'best'            0\n",
       "        'upper right'     1\n",
       "        'upper left'      2\n",
       "        'lower left'      3\n",
       "        'lower right'     4\n",
       "        'right'           5\n",
       "        'center left'     6\n",
       "        'center right'    7\n",
       "        'lower center'    8\n",
       "        'upper center'    9\n",
       "        'center'          10\n",
       "        ===============   =============\n",
       "\n",
       "bbox_to_anchor : `.BboxBase`, 2-tuple, or 4-tuple of floats\n",
       "    Box that is used to position the legend in conjunction with *loc*.\n",
       "    Defaults to `axes.bbox` (if called as a method to `.Axes.legend`) or\n",
       "    `figure.bbox` (if `.Figure.legend`).  This argument allows arbitrary\n",
       "    placement of the legend.\n",
       "\n",
       "    Bbox coordinates are interpreted in the coordinate system given by\n",
       "    `bbox_transform`, with the default transform\n",
       "    Axes or Figure coordinates, depending on which ``legend`` is called.\n",
       "\n",
       "    If a 4-tuple or `.BboxBase` is given, then it specifies the bbox\n",
       "    ``(x, y, width, height)`` that the legend is placed in.\n",
       "    To put the legend in the best location in the bottom right\n",
       "    quadrant of the axes (or figure)::\n",
       "\n",
       "        loc='best', bbox_to_anchor=(0.5, 0., 0.5, 0.5)\n",
       "\n",
       "    A 2-tuple ``(x, y)`` places the corner of the legend specified by *loc* at\n",
       "    x, y.  For example, to put the legend's upper right-hand corner in the\n",
       "    center of the axes (or figure) the following keywords can be used::\n",
       "\n",
       "        loc='upper right', bbox_to_anchor=(0.5, 0.5)\n",
       "\n",
       "ncol : integer\n",
       "    The number of columns that the legend has. Default is 1.\n",
       "\n",
       "prop : None or :class:`matplotlib.font_manager.FontProperties` or dict\n",
       "    The font properties of the legend. If None (default), the current\n",
       "    :data:`matplotlib.rcParams` will be used.\n",
       "\n",
       "fontsize : int or float or {'xx-small', 'x-small', 'small', 'medium', 'large', 'x-large', 'xx-large'}\n",
       "    Controls the font size of the legend. If the value is numeric the\n",
       "    size will be the absolute font size in points. String values are\n",
       "    relative to the current default font size. This argument is only\n",
       "    used if `prop` is not specified.\n",
       "\n",
       "numpoints : None or int\n",
       "    The number of marker points in the legend when creating a legend\n",
       "    entry for a `.Line2D` (line).\n",
       "    Default is ``None``, which will take the value from\n",
       "    :rc:`legend.numpoints`.\n",
       "\n",
       "scatterpoints : None or int\n",
       "    The number of marker points in the legend when creating\n",
       "    a legend entry for a `.PathCollection` (scatter plot).\n",
       "    Default is ``None``, which will take the value from\n",
       "    :rc:`legend.scatterpoints`.\n",
       "\n",
       "scatteryoffsets : iterable of floats\n",
       "    The vertical offset (relative to the font size) for the markers\n",
       "    created for a scatter plot legend entry. 0.0 is at the base the\n",
       "    legend text, and 1.0 is at the top. To draw all markers at the\n",
       "    same height, set to ``[0.5]``. Default is ``[0.375, 0.5, 0.3125]``.\n",
       "\n",
       "markerscale : None or int or float\n",
       "    The relative size of legend markers compared with the originally\n",
       "    drawn ones.\n",
       "    Default is ``None``, which will take the value from\n",
       "    :rc:`legend.markerscale`.\n",
       "\n",
       "markerfirst : bool\n",
       "    If *True*, legend marker is placed to the left of the legend label.\n",
       "    If *False*, legend marker is placed to the right of the legend\n",
       "    label.\n",
       "    Default is *True*.\n",
       "\n",
       "frameon : None or bool\n",
       "    Control whether the legend should be drawn on a patch\n",
       "    (frame).\n",
       "    Default is ``None``, which will take the value from\n",
       "    :rc:`legend.frameon`.\n",
       "\n",
       "fancybox : None or bool\n",
       "    Control whether round edges should be enabled around the\n",
       "    :class:`~matplotlib.patches.FancyBboxPatch` which makes up the\n",
       "    legend's background.\n",
       "    Default is ``None``, which will take the value from\n",
       "    :rc:`legend.fancybox`.\n",
       "\n",
       "shadow : None or bool\n",
       "    Control whether to draw a shadow behind the legend.\n",
       "    Default is ``None``, which will take the value from\n",
       "    :rc:`legend.shadow`.\n",
       "\n",
       "framealpha : None or float\n",
       "    Control the alpha transparency of the legend's background.\n",
       "    Default is ``None``, which will take the value from\n",
       "    :rc:`legend.framealpha`.  If shadow is activated and\n",
       "    *framealpha* is ``None``, the default value is ignored.\n",
       "\n",
       "facecolor : None or \"inherit\" or a color spec\n",
       "    Control the legend's background color.\n",
       "    Default is ``None``, which will take the value from\n",
       "    :rc:`legend.facecolor`.  If ``\"inherit\"``, it will take\n",
       "    :rc:`axes.facecolor`.\n",
       "\n",
       "edgecolor : None or \"inherit\" or a color spec\n",
       "    Control the legend's background patch edge color.\n",
       "    Default is ``None``, which will take the value from\n",
       "    :rc:`legend.edgecolor` If ``\"inherit\"``, it will take\n",
       "    :rc:`axes.edgecolor`.\n",
       "\n",
       "mode : {\"expand\", None}\n",
       "    If `mode` is set to ``\"expand\"`` the legend will be horizontally\n",
       "    expanded to fill the axes area (or `bbox_to_anchor` if defines\n",
       "    the legend's size).\n",
       "\n",
       "bbox_transform : None or :class:`matplotlib.transforms.Transform`\n",
       "    The transform for the bounding box (`bbox_to_anchor`). For a value\n",
       "    of ``None`` (default) the Axes'\n",
       "    :data:`~matplotlib.axes.Axes.transAxes` transform will be used.\n",
       "\n",
       "title : str or None\n",
       "    The legend's title. Default is no title (``None``).\n",
       "\n",
       "title_fontsize: str or None\n",
       "    The fontsize of the legend's title.  Default is the default fontsize.\n",
       "\n",
       "borderpad : float or None\n",
       "    The fractional whitespace inside the legend border.\n",
       "    Measured in font-size units.\n",
       "    Default is ``None``, which will take the value from\n",
       "    :rc:`legend.borderpad`.\n",
       "\n",
       "labelspacing : float or None\n",
       "    The vertical space between the legend entries.\n",
       "    Measured in font-size units.\n",
       "    Default is ``None``, which will take the value from\n",
       "    :rc:`legend.labelspacing`.\n",
       "\n",
       "handlelength : float or None\n",
       "    The length of the legend handles.\n",
       "    Measured in font-size units.\n",
       "    Default is ``None``, which will take the value from\n",
       "    :rc:`legend.handlelength`.\n",
       "\n",
       "handletextpad : float or None\n",
       "    The pad between the legend handle and text.\n",
       "    Measured in font-size units.\n",
       "    Default is ``None``, which will take the value from\n",
       "    :rc:`legend.handletextpad`.\n",
       "\n",
       "borderaxespad : float or None\n",
       "    The pad between the axes and legend border.\n",
       "    Measured in font-size units.\n",
       "    Default is ``None``, which will take the value from\n",
       "    :rc:`legend.borderaxespad`.\n",
       "\n",
       "columnspacing : float or None\n",
       "    The spacing between columns.\n",
       "    Measured in font-size units.\n",
       "    Default is ``None``, which will take the value from\n",
       "    :rc:`legend.columnspacing`.\n",
       "\n",
       "handler_map : dict or None\n",
       "    The custom dictionary mapping instances or types to a legend\n",
       "    handler. This `handler_map` updates the default handler map\n",
       "    found at :func:`matplotlib.legend.Legend.get_legend_handler_map`.\n",
       "\n",
       "\n",
       "\n",
       "Returns\n",
       "-------\n",
       "\n",
       ":class:`matplotlib.legend.Legend` instance\n",
       "\n",
       "Notes\n",
       "-----\n",
       "\n",
       "Not all kinds of artist are supported by the legend command. See\n",
       ":doc:`/tutorials/intermediate/legend_guide` for details.\n",
       "\n",
       "Examples\n",
       "--------\n",
       "\n",
       ".. plot:: gallery/text_labels_and_annotations/legend.py\n",
       "\u001b[0;31mFile:\u001b[0m      ~/miniconda3/lib/python3.7/site-packages/matplotlib/pyplot.py\n",
       "\u001b[0;31mType:\u001b[0m      function\n"
      ]
     },
     "metadata": {},
     "output_type": "display_data"
    }
   ],
   "source": [
    "plt.legend?"
   ]
  },
  {
   "cell_type": "markdown",
   "metadata": {},
   "source": [
    "PERFIL DE VELOCIDADES:"
   ]
  },
  {
   "cell_type": "code",
   "execution_count": 6,
   "metadata": {},
   "outputs": [
    {
     "data": {
      "text/plain": [
       "[<matplotlib.lines.Line2D at 0x7f83b05d66a0>]"
      ]
     },
     "execution_count": 6,
     "metadata": {},
     "output_type": "execute_result"
    },
    {
     "data": {
      "image/png": "[encoded data removed]",
      "text/plain": [
       "<Figure size 432x288 with 1 Axes>"
      ]
     },
     "metadata": {
      "needs_background": "light"
     },
     "output_type": "display_data"
    }
   ],
   "source": [
    "t=np.loadtxt('/home/arodriguez/Void-s-Gastrophysics/perfiles/halosprofileBASE.dat')\n",
    "plt.plot(t[:,0],t[:,5])\n",
    "#plt.xlim(0,40)"
   ]
  },
  {
   "cell_type": "code",
   "execution_count": null,
   "metadata": {},
   "outputs": [],
   "source": []
  },
  {
   "cell_type": "code",
   "execution_count": null,
   "metadata": {},
   "outputs": [],
   "source": []
  },
  {
   "cell_type": "code",
   "execution_count": null,
   "metadata": {},
   "outputs": [],
   "source": []
  },
  {
   "cell_type": "code",
   "execution_count": 18,
   "metadata": {},
   "outputs": [],
   "source": [
    "t1=np.loadtxt('/home/arodriguez/Void-s-Gastrophysics/PostSemi/CosmoBox/halosprofile_S760.dat')\n",
    "t2=np.loadtxt('/home/arodriguez/Void-s-Gastrophysics/PostSemi/CosmoBox/halosprofile_S615.dat')\n",
    "\n",
    "t3=np.loadtxt('/home/arodriguez/Void-s-Gastrophysics/PostSemi/CosmoBox/halosprofile_R760.dat')\n",
    "t4=np.loadtxt('/home/arodriguez/Void-s-Gastrophysics/PostSemi/CosmoBox/halosprofile_R615.dat')"
   ]
  },
  {
   "cell_type": "code",
   "execution_count": 19,
   "metadata": {},
   "outputs": [
    {
     "data": {
      "text/plain": [
       "<matplotlib.legend.Legend at 0x7f67f0712fd0>"
      ]
     },
     "execution_count": 19,
     "metadata": {},
     "output_type": "execute_result"
    },
    {
     "data": {
      "image/png": "[encoded data removed]",
      "text/plain": [
       "<Figure size 432x288 with 1 Axes>"
      ]
     },
     "metadata": {
      "needs_background": "light"
     },
     "output_type": "display_data"
    }
   ],
   "source": [
    "plt.plot(t1[:,0],(t1[:,1]/t1[:,2]-dh)/dh,label='corte 760')\n",
    "plt.plot(t2[:,0],(t2[:,1]/t2[:,2]-dh)/dh,label='corte 615')\n",
    "plt.plot(t3[:,0],(t3[:,1]/t3[:,2]-dh)/dh,label='corte 760')\n",
    "plt.plot(t4[:,0],(t4[:,1]/t4[:,2]-dh)/dh,label='corte 615')\n",
    "\n",
    "plt.hlines(y=-0.7, xmin=0,xmax=20,ls='--',lw=1)\n",
    "plt.xlabel('radio [Mpc]',size=15)\n",
    "plt.ylabel('$ \\Delta(r) $',size=15)\n",
    "plt.legend()\n",
    "#plt.ylim(-1,-0.5)\n",
    "#plt.xlim(9.5,13)"
   ]
  },
  {
   "cell_type": "code",
   "execution_count": 38,
   "metadata": {},
   "outputs": [
    {
     "data": {
      "text/plain": [
       "<matplotlib.legend.Legend at 0x7f72dac07ef0>"
      ]
     },
     "execution_count": 38,
     "metadata": {},
     "output_type": "execute_result"
    },
    {
     "data": {
      "image/png": "[encoded data removed]",
      "text/plain": [
       "<Figure size 432x288 with 1 Axes>"
      ]
     },
     "metadata": {
      "needs_background": "light"
     },
     "output_type": "display_data"
    }
   ],
   "source": [
    "t1=np.loadtxt('/home/arodriguez/Void-s-Gastrophysics/PostSemi/CosmoBox/halosprofile_S1230.dat')\n",
    "t2=np.loadtxt('/home/arodriguez/Void-s-Gastrophysics/PostSemi/CosmoBox/halosprofile_R1230.dat')\n",
    "plt.plot(t1[:,0],(t1[:,1]/t1[:,2]-dh)/dh,label='corte 1230')\n",
    "plt.plot(t2[:,0],(t2[:,1]/t2[:,2]-dh)/dh,label='corte 1230')\n",
    "\n",
    "\n",
    "plt.hlines(y=-0.7, xmin=0,xmax=20,ls='--',lw=1)\n",
    "plt.vlines(x=9.5, ymin=-1,ymax=0,ls='--',lw=1)\n",
    "\n",
    "plt.xlabel('radio [Mpc]',size=15)\n",
    "plt.ylabel('$ \\Delta(r) $',size=15)\n",
    "plt.legend()\n",
    "#plt.ylim(-1,-0.5)\n",
    "#plt.xlim(9.5,11)"
   ]
  }
 ],
 "metadata": {
  "kernelspec": {
   "display_name": "Python 3",
   "language": "python",
   "name": "python3"
  },
  "language_info": {
   "codemirror_mode": {
    "name": "ipython",
    "version": 3
   },
   "file_extension": ".py",
   "mimetype": "text/x-python",
   "name": "python",
   "nbconvert_exporter": "python",
   "pygments_lexer": "ipython3",
   "version": "3.7.3"
  }
 },
 "nbformat": 4,
 "nbformat_minor": 4
}
